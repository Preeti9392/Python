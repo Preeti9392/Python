{
 "cells": [
  {
   "cell_type": "code",
   "execution_count": 2,
   "id": "a292cd01-bf13-4e34-827a-4102d7d2ca62",
   "metadata": {},
   "outputs": [
    {
     "name": "stdout",
     "output_type": "stream",
     "text": [
      "India 5 Pakistan\n"
     ]
    }
   ],
   "source": [
    "print('India','5','Pakistan')"
   ]
  },
  {
   "cell_type": "code",
   "execution_count": 3,
   "id": "ddbe05f1-4e06-490f-8783-e6ecd41084bf",
   "metadata": {},
   "outputs": [
    {
     "name": "stdout",
     "output_type": "stream",
     "text": [
      "India/5/Pakistan\n"
     ]
    }
   ],
   "source": [
    "print('India','5','Pakistan', sep='/')"
   ]
  },
  {
   "cell_type": "code",
   "execution_count": null,
   "id": "003292d6-93af-4cf0-ba08-c3a8e86febf7",
   "metadata": {},
   "outputs": [],
   "source": [
    "print('India')\n",
    "print('Pakistan')"
   ]
  },
  {
   "cell_type": "code",
   "execution_count": 4,
   "id": "f4f18d7c-2926-43a6-9450-8b33445066c0",
   "metadata": {},
   "outputs": [
    {
     "name": "stdout",
     "output_type": "stream",
     "text": [
      "India-Pakistan\n"
     ]
    }
   ],
   "source": [
    "print('India', end='-')\n",
    "print('Pakistan')"
   ]
  },
  {
   "cell_type": "markdown",
   "id": "a73d36eb-1bf9-4280-935e-f59aa12747fd",
   "metadata": {},
   "source": [
    "Python supports 3 categories of data types:\n",
    "1.basic types-(integer, float, string, boolean, complex)\n",
    "2.container types-(list, tuples, sets, dictionary)\n",
    "3.user defined types-(class)"
   ]
  },
  {
   "cell_type": "code",
   "execution_count": 8,
   "id": "2fb9d615-7966-47fc-8965-9a38106b21d7",
   "metadata": {},
   "outputs": [
    {
     "name": "stdout",
     "output_type": "stream",
     "text": [
      "5 6 7000000000000000000000000000000000000000000000000\n",
      "1e+308\n",
      "inf\n"
     ]
    }
   ],
   "source": [
    "# integer\n",
    "print(5,6,7000000000000000000000000000000000000000000000000)\n",
    "print(1e308)\n",
    "print(1e309)"
   ]
  },
  {
   "cell_type": "code",
   "execution_count": 9,
   "id": "a95b0087-1bb4-4d57-8f6e-4aaef9687d7a",
   "metadata": {},
   "outputs": [
    {
     "name": "stdout",
     "output_type": "stream",
     "text": [
      "4.5\n",
      "1.1e+308\n",
      "inf\n"
     ]
    }
   ],
   "source": [
    "#float\n",
    "print(4.5)\n",
    "print(1.1e308)\n",
    "print(1.1e309)\n",
    "\n"
   ]
  },
  {
   "cell_type": "code",
   "execution_count": 12,
   "id": "dfc552ea-c47e-41c3-b97c-8a298d3a9342",
   "metadata": {},
   "outputs": [
    {
     "name": "stdout",
     "output_type": "stream",
     "text": [
      "True\n",
      "False\n"
     ]
    }
   ],
   "source": [
    "#boolean (True/False)\n",
    "print(True)\n",
    "print(False)"
   ]
  },
  {
   "cell_type": "code",
   "execution_count": 13,
   "id": "fafc94d6-08a9-4843-9a11-ace1ce88303c",
   "metadata": {},
   "outputs": [
    {
     "name": "stdout",
     "output_type": "stream",
     "text": [
      "(4+5j)\n"
     ]
    }
   ],
   "source": [
    "# complex (real+imag)\n",
    "print(4+5j)"
   ]
  },
  {
   "cell_type": "code",
   "execution_count": 16,
   "id": "189a51fb-86f2-48ab-a8a5-2758eb494e4b",
   "metadata": {},
   "outputs": [
    {
     "name": "stdout",
     "output_type": "stream",
     "text": [
      "preeti Preeti Preeti Preeti\n"
     ]
    }
   ],
   "source": [
    "# string\n",
    "print('preeti', \"Preeti\", '''Preeti''', \"\"\"Preeti\"\"\")"
   ]
  },
  {
   "cell_type": "code",
   "execution_count": 17,
   "id": "faf61540-b134-4dac-90e1-148d67141b11",
   "metadata": {},
   "outputs": [
    {
     "name": "stdout",
     "output_type": "stream",
     "text": [
      "[1, 2, 3, 4]\n"
     ]
    }
   ],
   "source": [
    "#List  (array)  ordered items\n",
    "print([1,2,3,4])"
   ]
  },
  {
   "cell_type": "code",
   "execution_count": 18,
   "id": "cec6bd6e-a79d-4ac4-8732-13c783e5a8d7",
   "metadata": {},
   "outputs": [
    {
     "name": "stdout",
     "output_type": "stream",
     "text": [
      "(1, 2, 3, 4)\n"
     ]
    }
   ],
   "source": [
    "# tuple     ordered items, immutable\n",
    "print((1,2,3,4))"
   ]
  },
  {
   "cell_type": "code",
   "execution_count": 19,
   "id": "0b053da2-e64a-4d5b-84bd-76a0718726d1",
   "metadata": {},
   "outputs": [
    {
     "name": "stdout",
     "output_type": "stream",
     "text": [
      "{1, 2, 3, 4}\n"
     ]
    }
   ],
   "source": [
    "# sets      unordered, unique\n",
    "print({1,2,3,4})"
   ]
  },
  {
   "cell_type": "code",
   "execution_count": 21,
   "id": "ea9ce81d-39e4-4890-9b34-8b988d3dd7ed",
   "metadata": {},
   "outputs": [
    {
     "name": "stdout",
     "output_type": "stream",
     "text": [
      "{'name': 'preeti', 'age': 82, 'gender': 'F'}\n"
     ]
    }
   ],
   "source": [
    "# dictionary      key value pair\n",
    "print({'name':'preeti', 'age':82, 'gender':'F'})"
   ]
  },
  {
   "cell_type": "markdown",
   "id": "795707d4-f46f-49c1-947d-7026ce6e469c",
   "metadata": {},
   "source": [
    "# comments:\n",
    "it is a piece of code that is not executable by compiler or interpretor\n",
    "to enhance code readability\n",
    "use # in start"
   ]
  },
  {
   "cell_type": "markdown",
   "id": "281a729b-33ed-4caf-8ab7-6ee386ae6f05",
   "metadata": {},
   "source": [
    "# variables\n",
    "these are containers for future use"
   ]
  },
  {
   "cell_type": "code",
   "execution_count": 23,
   "id": "1bb92b3f-d14a-4f50-b267-39cbf2bda99c",
   "metadata": {},
   "outputs": [],
   "source": [
    "name='preeti'  # dynamic typing:python will automatically understand its datatype\n",
    "# name=preeti"
   ]
  },
  {
   "cell_type": "code",
   "execution_count": 24,
   "id": "d9f223b0-506c-4aba-8276-1fe42a4d446c",
   "metadata": {},
   "outputs": [
    {
     "name": "stdout",
     "output_type": "stream",
     "text": [
      "preeti\n"
     ]
    }
   ],
   "source": [
    "print(name)"
   ]
  },
  {
   "cell_type": "code",
   "execution_count": 25,
   "id": "925cf324-b6ab-4e61-aaea-8adfaba8433b",
   "metadata": {},
   "outputs": [
    {
     "name": "stdout",
     "output_type": "stream",
     "text": [
      "True\n"
     ]
    }
   ],
   "source": [
    "name=True    # dynamic binding: variable is not binded to a datatype\n",
    "print(name)"
   ]
  },
  {
   "cell_type": "code",
   "execution_count": null,
   "id": "4e8f4742-9276-4416-a7c1-9588c7dba5bf",
   "metadata": {},
   "outputs": [],
   "source": [
    "# no variable declaration"
   ]
  },
  {
   "cell_type": "code",
   "execution_count": null,
   "id": "f7838427-abc4-4c5b-8197-19054999dd44",
   "metadata": {},
   "outputs": [],
   "source": [
    "Static vs Dynamic Typing:\n",
    "\n",
    "Dynamic Typing (Python): Types change during execution.\n",
    "Static Typing: Fixed types before runtime.\n",
    "Static vs Dynamic Binding:\n",
    "\n",
    "Static Binding: Types fixed at compile-time.(c,c+,java)\n",
    "Dynamic Binding: Types associated at runtime, changeable during execution.\n",
    "Stylish Declaration Techniques:\n",
    "\n",
    "Clear, efficient variable/structure declarations in Python.\n",
    "Use Python's flexibility for concise, readable code."
   ]
  },
  {
   "cell_type": "code",
   "execution_count": 28,
   "id": "4cf500df-661d-4b96-84cf-76d8e6050378",
   "metadata": {},
   "outputs": [
    {
     "name": "stdout",
     "output_type": "stream",
     "text": [
      "5 3 4\n"
     ]
    }
   ],
   "source": [
    "# to declate multiple variables in a single line\n",
    "a=5;b=3;c=4     \n",
    "print(a,b,c)"
   ]
  },
  {
   "cell_type": "code",
   "execution_count": 30,
   "id": "0cd98327-54dc-40ce-b1a2-ee03942de823",
   "metadata": {},
   "outputs": [
    {
     "name": "stdout",
     "output_type": "stream",
     "text": [
      "5 3 4\n"
     ]
    }
   ],
   "source": [
    "a,b,c=5,3,4\n",
    "print(a,b,c)"
   ]
  },
  {
   "cell_type": "code",
   "execution_count": 32,
   "id": "102ca56b-3227-40ae-8a0b-bdb4110c6f04",
   "metadata": {},
   "outputs": [
    {
     "name": "stdout",
     "output_type": "stream",
     "text": [
      "6 6 6\n"
     ]
    }
   ],
   "source": [
    "a=b=c=6\n",
    "print(a,b,c)"
   ]
  },
  {
   "cell_type": "markdown",
   "id": "4ea1dd2d-2b95-48b8-94c9-f776095b072a",
   "metadata": {},
   "source": [
    "Keywords\n",
    "Python is case sensitive\n",
    "In programming a Keyword is a word that is reserved by a program because the word has a special meaning\n",
    "keywords can be commands or parameters.\n",
    "every programming language has a set of keywords that cannot be used as variable name"
   ]
  },
  {
   "cell_type": "code",
   "execution_count": 33,
   "id": "0f508c08-6130-42db-9e6d-cb531f3f2bcf",
   "metadata": {},
   "outputs": [
    {
     "name": "stdout",
     "output_type": "stream",
     "text": [
      "['False', 'None', 'True', 'and', 'as', 'assert', 'async', 'await', 'break', 'class', 'continue', 'def', 'del', 'elif', 'else', 'except', 'finally', 'for', 'from', 'global', 'if', 'import', 'in', 'is', 'lambda', 'nonlocal', 'not', 'or', 'pass', 'raise', 'return', 'try', 'while', 'with', 'yield']\n"
     ]
    }
   ],
   "source": [
    "# python has 33 keywords\n",
    "import keyword\n",
    "print(keyword.kwlist)  # keyword list"
   ]
  },
  {
   "cell_type": "markdown",
   "id": "551641be-0ac4-4b04-872b-7a8931b89ff9",
   "metadata": {},
   "source": [
    "Identifiers\n",
    "a python identifier is a name used to identify a variable, function, class, module or other object.\n",
    "\n",
    "Rules:\n",
    "\n",
    "Start with letter or _\n",
    "Followed by letters, digits, _\n",
    "Not a Python keyword"
   ]
  },
  {
   "cell_type": "markdown",
   "id": "becae825-8bb6-49be-a8e8-e478cc941561",
   "metadata": {},
   "source": [
    " Taking user input\n",
    " static software  (watch)\n",
    " dynamic software"
   ]
  },
  {
   "cell_type": "code",
   "execution_count": 35,
   "id": "6e138c23-34a5-4cc8-b145-299aaa53a8f7",
   "metadata": {},
   "outputs": [
    {
     "name": "stdin",
     "output_type": "stream",
     "text": [
      " hgf\n"
     ]
    },
    {
     "data": {
      "text/plain": [
       "'hgf'"
      ]
     },
     "execution_count": 35,
     "metadata": {},
     "output_type": "execute_result"
    }
   ],
   "source": [
    "input()"
   ]
  },
  {
   "cell_type": "code",
   "execution_count": 37,
   "id": "a29ed399-d855-4236-a1bf-3fcb974df447",
   "metadata": {},
   "outputs": [
    {
     "name": "stdin",
     "output_type": "stream",
     "text": [
      "what is your name preeti\n"
     ]
    },
    {
     "data": {
      "text/plain": [
       "'preeti'"
      ]
     },
     "execution_count": 37,
     "metadata": {},
     "output_type": "execute_result"
    }
   ],
   "source": [
    "input(prompt='what is your name')"
   ]
  },
  {
   "cell_type": "code",
   "execution_count": 52,
   "id": "8bc9b79b-c81b-4fa8-8cb4-f62df27b3a9a",
   "metadata": {},
   "outputs": [
    {
     "name": "stdin",
     "output_type": "stream",
     "text": [
      "enter first number 2\n",
      "enter second number 6\n"
     ]
    },
    {
     "name": "stdout",
     "output_type": "stream",
     "text": [
      "26\n"
     ]
    }
   ],
   "source": [
    "first_num=input('enter first number')\n",
    "second_num=input('enter second number')\n",
    "result=first_num + second_num\n",
    "print(result)            #### input method saves the  input bydefault as string"
   ]
  },
  {
   "cell_type": "code",
   "execution_count": 53,
   "id": "b83cb722-a1c9-495c-b4a1-362c6a2a32ce",
   "metadata": {},
   "outputs": [
    {
     "data": {
      "text/plain": [
       "8"
      ]
     },
     "execution_count": 53,
     "metadata": {},
     "output_type": "execute_result"
    }
   ],
   "source": [
    "int(first_num)+int(second_num)"
   ]
  },
  {
   "cell_type": "code",
   "execution_count": 57,
   "id": "325aef43-3664-46ef-a63d-9e8aaadeb851",
   "metadata": {},
   "outputs": [
    {
     "data": {
      "text/plain": [
       "str"
      ]
     },
     "execution_count": 57,
     "metadata": {},
     "output_type": "execute_result"
    }
   ],
   "source": [
    "type(first_num)   # it doesnt typeconvert permanently"
   ]
  },
  {
   "cell_type": "code",
   "execution_count": 44,
   "id": "86839d71-d7a0-44ae-8074-e6447d8fae3a",
   "metadata": {},
   "outputs": [
    {
     "name": "stdin",
     "output_type": "stream",
     "text": [
      "enter first number 2\n",
      "enter second number 6\n"
     ]
    },
    {
     "name": "stdout",
     "output_type": "stream",
     "text": [
      "8\n"
     ]
    }
   ],
   "source": [
    "first_num=int(input('enter first number'))\n",
    "second_num=int(input('enter second number'))\n",
    "result=first_num + second_num\n",
    "print(result)     "
   ]
  },
  {
   "cell_type": "code",
   "execution_count": 48,
   "id": "0e419b1d-9219-4782-8580-d3fbf9b331ec",
   "metadata": {},
   "outputs": [
    {
     "data": {
      "text/plain": [
       "(int, float, bool, str, complex)"
      ]
     },
     "execution_count": 48,
     "metadata": {},
     "output_type": "execute_result"
    }
   ],
   "source": [
    "type(4),type(2.2),type(True),type('abc'), type(5+4j)"
   ]
  },
  {
   "cell_type": "markdown",
   "id": "af0c6883-abaa-4214-984d-8da324a30765",
   "metadata": {},
   "source": [
    "Type conversion\n",
    "implicit\n",
    "explicit"
   ]
  },
  {
   "cell_type": "code",
   "execution_count": 49,
   "id": "b7808fab-0087-46ad-91fc-c421392b310d",
   "metadata": {},
   "outputs": [
    {
     "data": {
      "text/plain": [
       "8.5"
      ]
     },
     "execution_count": 49,
     "metadata": {},
     "output_type": "execute_result"
    }
   ],
   "source": [
    "# implicit\n",
    "4+4.5"
   ]
  },
  {
   "cell_type": "code",
   "execution_count": 51,
   "id": "4e34fba9-859e-4d10-b9bf-c3a0b17ed76e",
   "metadata": {},
   "outputs": [
    {
     "data": {
      "text/plain": [
       "(11.5+7j)"
      ]
     },
     "execution_count": 51,
     "metadata": {},
     "output_type": "execute_result"
    }
   ],
   "source": [
    "5+6.5+7j   # implicit"
   ]
  },
  {
   "cell_type": "code",
   "execution_count": null,
   "id": "8db6ce5c-10a7-48cc-8ba8-6a36fe09b4db",
   "metadata": {},
   "outputs": [],
   "source": [
    "# explicit"
   ]
  },
  {
   "cell_type": "code",
   "execution_count": 54,
   "id": "fac25404-78b2-40ec-a168-7328a6b79c95",
   "metadata": {},
   "outputs": [
    {
     "data": {
      "text/plain": [
       "True"
      ]
     },
     "execution_count": 54,
     "metadata": {},
     "output_type": "execute_result"
    }
   ],
   "source": [
    "bool(1)"
   ]
  },
  {
   "cell_type": "code",
   "execution_count": 55,
   "id": "8459f325-3199-4855-adf9-7e451781471f",
   "metadata": {},
   "outputs": [
    {
     "data": {
      "text/plain": [
       "(4+0j)"
      ]
     },
     "execution_count": 55,
     "metadata": {},
     "output_type": "execute_result"
    }
   ],
   "source": [
    "complex(4)"
   ]
  },
  {
   "cell_type": "code",
   "execution_count": 56,
   "id": "261209f3-a1af-4d9b-9fd0-d7bf7511f5dc",
   "metadata": {},
   "outputs": [
    {
     "data": {
      "text/plain": [
       "'55'"
      ]
     },
     "execution_count": 56,
     "metadata": {},
     "output_type": "execute_result"
    }
   ],
   "source": [
    "str(55)"
   ]
  },
  {
   "cell_type": "markdown",
   "id": "b36da375-9996-400d-a5c5-de5d58934358",
   "metadata": {},
   "source": [
    "Literals\n",
    "literal is a raw data given in a variable.\n",
    "In python there are various types of literls.\n",
    "numeric literal\n",
    "string literal\n",
    "boolean literal\n",
    "special literal"
   ]
  },
  {
   "cell_type": "code",
   "execution_count": 58,
   "id": "735fcd82-cce7-4e6f-b323-deaaa8f5e528",
   "metadata": {},
   "outputs": [
    {
     "name": "stdout",
     "output_type": "stream",
     "text": [
      "10 100 200 300\n",
      "10.5 150.0 0.0015\n",
      "3.14j 3.14 0.0\n"
     ]
    }
   ],
   "source": [
    "# 1.numeric literals\n",
    "# Integer Literals\n",
    "a = 0b1010  # Binary literal\n",
    "b = 100     # Decimal literal\n",
    "c = 0o310   # Octal literal\n",
    "d = 0x12c   # Hexadecimal literal\n",
    "\n",
    "# Float Literals\n",
    "f1 = 10.5\n",
    "f2 = 1.5e2\n",
    "f3 = 1.5e-3\n",
    "\n",
    "# Complex Literal\n",
    "x = 3.14j\n",
    "\n",
    "print(a, b, c, d)\n",
    "print(f1, f2, f3)\n",
    "print(x, x.imag, x.real)"
   ]
  },
  {
   "cell_type": "code",
   "execution_count": 59,
   "id": "a57cf39a-efbb-48c8-8a5c-915e9ce2bf00",
   "metadata": {},
   "outputs": [
    {
     "name": "stdout",
     "output_type": "stream",
     "text": [
      "This is Python\n",
      "This is Python\n",
      "C\n",
      "This is a multiline string with more than one line code.\n",
      "😀😆🤣\n",
      "raw \\n string\n"
     ]
    }
   ],
   "source": [
    "# string literal\n",
    "string = 'This is Python'\n",
    "strings = \"This is Python\"\n",
    "char = \"C\"\n",
    "multiline_str = \"\"\"This is a multiline string with more than one line code.\"\"\"\n",
    "unicode = u\"\\U0001f600\\U0001F606\\U0001F923\"\n",
    "raw_str = r\"raw \\n string\"\n",
    "\n",
    "print(string)\n",
    "print(strings)\n",
    "print(char)\n",
    "print(multiline_str)\n",
    "print(unicode)\n",
    "print(raw_str)"
   ]
  },
  {
   "cell_type": "markdown",
   "id": "b78589d5-2174-40f5-b9c3-d9b0089e19ad",
   "metadata": {},
   "source": []
  },
  {
   "cell_type": "code",
   "execution_count": 60,
   "id": "f32463cb-4527-4170-9fd9-16d8e71b4e36",
   "metadata": {},
   "outputs": [
    {
     "name": "stdout",
     "output_type": "stream",
     "text": [
      "a: 5\n",
      "b: 10\n"
     ]
    }
   ],
   "source": [
    "# Boolean literal\n",
    "a = True + 4   # True == 1\n",
    "b = False + 10 # False == 0\n",
    "\n",
    "print(\"a:\", a)\n",
    "print(\"b:\", b)"
   ]
  },
  {
   "cell_type": "code",
   "execution_count": null,
   "id": "8d8f4b40-0ca9-489b-9319-2235f9a3e93e",
   "metadata": {},
   "outputs": [],
   "source": [
    "# special literal\n",
    "a = None    # absence of anything\n",
    "print(a)"
   ]
  },
  {
   "cell_type": "code",
   "execution_count": 62,
   "id": "a922eae0-cdc2-49f3-91fb-bbf12ec5996c",
   "metadata": {},
   "outputs": [],
   "source": [
    "c=2+3"
   ]
  },
  {
   "cell_type": "code",
   "execution_count": 66,
   "id": "5b415eaf-3b73-4dab-b156-8b7b21a2de4a",
   "metadata": {},
   "outputs": [],
   "source": [
    "k"
   ]
  },
  {
   "cell_type": "code",
   "execution_count": 63,
   "id": "c6bc46df-850c-41fd-823d-4d0a0d3fbf37",
   "metadata": {},
   "outputs": [],
   "source": [
    "# Variable Declaration\n",
    "k = None"
   ]
  },
  {
   "cell_type": "code",
   "execution_count": null,
   "id": "39973f66-50bc-4e92-b53e-050fc39532b1",
   "metadata": {},
   "outputs": [],
   "source": [
    "#DAY==7 operators in python\n",
    "Operators in Python\n",
    "Arithmetic: +, -, *, /, %, **, //\n",
    "Comparison: ==, !=, >, <, >=, <=\n",
    "Logical: and, or, not\n",
    "Bitwise: &, |, ^, ~, <<, >>\n",
    "Assignment: =, +=, -=, *=, /=, %=, **=, //=\n",
    "Identity: is, is not\n",
    "Membership: in, not in"
   ]
  },
  {
   "cell_type": "code",
   "execution_count": 91,
   "id": "b122394f-0f46-42e7-aa90-3251a0c2633e",
   "metadata": {},
   "outputs": [
    {
     "data": {
      "text/plain": [
       "False"
      ]
     },
     "execution_count": 91,
     "metadata": {},
     "output_type": "execute_result"
    }
   ],
   "source": [
    "x=2\n",
    "y=3\n",
    "x>y"
   ]
  },
  {
   "cell_type": "code",
   "execution_count": 92,
   "id": "3f748916-b68b-44e4-ba65-f05ee3d1fc58",
   "metadata": {},
   "outputs": [
    {
     "data": {
      "text/plain": [
       "False"
      ]
     },
     "execution_count": 92,
     "metadata": {},
     "output_type": "execute_result"
    }
   ],
   "source": [
    "x==y"
   ]
  },
  {
   "cell_type": "code",
   "execution_count": 93,
   "id": "b58c85e7-cc1f-47dc-8533-391809ec4797",
   "metadata": {},
   "outputs": [
    {
     "data": {
      "text/plain": [
       "False"
      ]
     },
     "execution_count": 93,
     "metadata": {},
     "output_type": "execute_result"
    }
   ],
   "source": [
    "#logical\n",
    "a=True\n",
    "b= False\n",
    "a and b"
   ]
  },
  {
   "cell_type": "code",
   "execution_count": 94,
   "id": "d01751fb-9817-46a4-ae2f-c9128e317497",
   "metadata": {},
   "outputs": [
    {
     "data": {
      "text/plain": [
       "True"
      ]
     },
     "execution_count": 94,
     "metadata": {},
     "output_type": "execute_result"
    }
   ],
   "source": [
    "a or b"
   ]
  },
  {
   "cell_type": "code",
   "execution_count": 95,
   "id": "9a18ee79-e985-49b0-a16e-debe855c4b2b",
   "metadata": {},
   "outputs": [
    {
     "data": {
      "text/plain": [
       "True"
      ]
     },
     "execution_count": 95,
     "metadata": {},
     "output_type": "execute_result"
    }
   ],
   "source": [
    "not b"
   ]
  },
  {
   "cell_type": "code",
   "execution_count": 96,
   "id": "9fb54e69-d905-4254-8a8c-584b24bc5e21",
   "metadata": {},
   "outputs": [
    {
     "data": {
      "text/plain": [
       "2"
      ]
     },
     "execution_count": 96,
     "metadata": {},
     "output_type": "execute_result"
    }
   ],
   "source": [
    "# Bitwise: &, |, ^, ~, <<, >>\n",
    "# works on binary values\n",
    "# useful in image processing\n",
    "x&y"
   ]
  },
  {
   "cell_type": "code",
   "execution_count": 97,
   "id": "d4626ad1-405c-4ef2-8e03-ea4e09f96d31",
   "metadata": {},
   "outputs": [
    {
     "data": {
      "text/plain": [
       "3"
      ]
     },
     "execution_count": 97,
     "metadata": {},
     "output_type": "execute_result"
    }
   ],
   "source": [
    "x|y"
   ]
  },
  {
   "cell_type": "code",
   "execution_count": 98,
   "id": "d0bc6bb2-c7a2-46b3-8626-c45303d268fb",
   "metadata": {},
   "outputs": [
    {
     "data": {
      "text/plain": [
       "False"
      ]
     },
     "execution_count": 98,
     "metadata": {},
     "output_type": "execute_result"
    }
   ],
   "source": [
    "x is y    "
   ]
  },
  {
   "cell_type": "code",
   "execution_count": 101,
   "id": "7144e78d-70ce-453c-a773-02679bd67c5c",
   "metadata": {},
   "outputs": [
    {
     "data": {
      "text/plain": [
       "True"
      ]
     },
     "execution_count": 101,
     "metadata": {},
     "output_type": "execute_result"
    }
   ],
   "source": [
    "c=1\n",
    "d=1\n",
    "c is d     # both are at same memory location"
   ]
  },
  {
   "cell_type": "code",
   "execution_count": 103,
   "id": "44f359c6-2646-4bed-9760-2e529081c840",
   "metadata": {},
   "outputs": [
    {
     "data": {
      "text/plain": [
       "False"
      ]
     },
     "execution_count": 103,
     "metadata": {},
     "output_type": "execute_result"
    }
   ],
   "source": [
    "c='hello-world'\n",
    "d='hello-world'\n",
    "c is d      # we cant tell by looking at"
   ]
  },
  {
   "cell_type": "code",
   "execution_count": 104,
   "id": "08bd288e-100d-4ff6-aff5-0032cf1793e4",
   "metadata": {},
   "outputs": [
    {
     "name": "stdout",
     "output_type": "stream",
     "text": [
      "True\n"
     ]
    }
   ],
   "source": [
    "print(\"o\" in c)"
   ]
  },
  {
   "cell_type": "markdown",
   "id": "6606d862-b49e-41c6-9ed5-1ebe99572db3",
   "metadata": {},
   "source": [
    "## if-elif-else OR decision control statement"
   ]
  },
  {
   "cell_type": "code",
   "execution_count": 105,
   "id": "887d5653-b490-4c2b-af60-46d5791cbfc6",
   "metadata": {},
   "outputs": [
    {
     "name": "stdin",
     "output_type": "stream",
     "text": [
      "enter your email preeti@gmail.com\n",
      "enter password 1234\n"
     ]
    },
    {
     "name": "stdout",
     "output_type": "stream",
     "text": [
      "welcome\n"
     ]
    }
   ],
   "source": [
    "#correct email=preeti@gmail.com\n",
    "# password= 1234\n",
    "email=input(\"enter your email\")\n",
    "password=input(\"enter password\")\n",
    "\n",
    "if email== \"preeti@gmail.com\" and password ==\"1234\":\n",
    "    print(\"welcome\")\n",
    "else:\n",
    "    print(\"Incorrect email or password\")"
   ]
  },
  {
   "cell_type": "code",
   "execution_count": null,
   "id": "3480c2a4-cd1b-4ffd-956b-e5f5af50ccb0",
   "metadata": {},
   "outputs": [],
   "source": [
    "mails={\"preeti@gmail.com\":\"1234\",\"Neha@gmail.com\": \"5698\"}\n",
    "email=input(\"enter your email\")\n",
    "password=input(\"enter password\")\n",
    "\n",
    "if email in mails.keys() and password== mails[email]:\n",
    "    print(\"welcome\")\n",
    "else:\n",
    "    print(\"Incorrect email or password\")"
   ]
  },
  {
   "cell_type": "markdown",
   "id": "975d2b91-6ef3-475a-b994-f41f7caebc9d",
   "metadata": {},
   "source": [
    "Q:if user is giving correct email and wrong passwor we want to \n",
    "give him one more chance to give correct password"
   ]
  },
  {
   "cell_type": "code",
   "execution_count": 124,
   "id": "eb1a8032-9cce-4efd-ae63-bdb3e68bc626",
   "metadata": {},
   "outputs": [
    {
     "name": "stdin",
     "output_type": "stream",
     "text": [
      "enter your email preeti@gmail.com\n",
      "enter password 86\n"
     ]
    },
    {
     "name": "stdout",
     "output_type": "stream",
     "text": [
      "incorrect password\n"
     ]
    },
    {
     "name": "stdin",
     "output_type": "stream",
     "text": [
      "please enter correct password 1234\n"
     ]
    },
    {
     "name": "stdout",
     "output_type": "stream",
     "text": [
      "welcome\n"
     ]
    }
   ],
   "source": [
    "email=input(\"enter your email\")\n",
    "password=input(\"enter password\")\n",
    "\n",
    "if email== \"preeti@gmail.com\" and password ==\"1234\":\n",
    "    print(\"welcome\")\n",
    "elif email== \"preeti@gmail.com\" and password !=\"1234\":       #*****using elif\n",
    "    print(\"incorrect password\")\n",
    "    password=input(\"please enter correct password\") \n",
    "    if password ==\"1234\":\n",
    "        print(\"welcome\")\n",
    "    else:\n",
    "        print(\"incorrect password\")\n",
    "        \n",
    "else:\n",
    "    print(\"Incorrect email or password\")"
   ]
  },
  {
   "cell_type": "code",
   "execution_count": 121,
   "id": "babdc8ef-7bf4-4700-9a4c-b6cd0f62e630",
   "metadata": {},
   "outputs": [
    {
     "name": "stdin",
     "output_type": "stream",
     "text": [
      "enter your email preeti@gmail.com\n",
      "enter password 75\n",
      "please enter the correct password 1234\n"
     ]
    },
    {
     "name": "stdout",
     "output_type": "stream",
     "text": [
      "welcome\n"
     ]
    }
   ],
   "source": [
    "email=input(\"enter your email\")\n",
    "\n",
    "if email== \"preeti@gmail.com\":\n",
    "    password=input(\"enter password\")\n",
    "    \n",
    "    if password == \"1234\":\n",
    "        print(\"welcome\")\n",
    "        \n",
    "        \n",
    "        if password==\"1234\":\n",
    "            print(\"password incorrect\") \n",
    "        else:\n",
    "            print(\"welcome\") \n",
    "    else:\n",
    "        password=input(\"please enter the correct password\")     #***** we have to again store the password given by user in password variable\n",
    "        if password==\"1234\":\n",
    "            print(\"welcome\") \n",
    "        else:\n",
    "            print(\"incorrect password\")\n",
    "        \n",
    "else:\n",
    "    print(\"Incorrect email\")"
   ]
  },
  {
   "cell_type": "code",
   "execution_count": 125,
   "id": "80828cde-57ac-4340-91d3-6c8901abc5c5",
   "metadata": {},
   "outputs": [
    {
     "name": "stdin",
     "output_type": "stream",
     "text": [
      "enter your email tgyhuj\n"
     ]
    },
    {
     "name": "stdout",
     "output_type": "stream",
     "text": [
      "Incorrect email\n"
     ]
    }
   ],
   "source": [
    "#Q: we also have to make sure that there is @ in email\n",
    "email=input(\"enter your email\")\n",
    "if \"@\" in email:                    ## if mistake is here code will not run further\n",
    "    password=input(\"enter password\")\n",
    "\n",
    "    if email== \"preeti@gmail.com\" and password ==\"1234\":\n",
    "        print(\"welcome\")\n",
    "    elif email== \"preeti@gmail.com\" and password !=\"1234\":       #*****using elif\n",
    "        print(\"incorrect password\")\n",
    "        password=input(\"please enter correct password\") \n",
    "        if password ==\"1234\":\n",
    "            print(\"welcome\")\n",
    "        else:\n",
    "            print(\"incorrect password\")\n",
    "            \n",
    "    else:\n",
    "        print(\"Incorrect email\")\n",
    "else:\n",
    "    print(\"Incorrect email\")"
   ]
  },
  {
   "cell_type": "markdown",
   "id": "d52f1398-819f-46c9-b90a-5f4d4c200322",
   "metadata": {},
   "source": [
    "## indentation"
   ]
  },
  {
   "cell_type": "markdown",
   "id": "52d23605-ce43-44d7-b13c-ceee1b5e8194",
   "metadata": {},
   "source": [
    "## While loop\n",
    "USED WHEN WE DONT KNOW HOW MANY TIMES WE HAVE TO RUN THE LOOP"
   ]
  },
  {
   "cell_type": "markdown",
   "id": "55361d20-d277-48d5-9e13-300e7016ec4e",
   "metadata": {},
   "source": [
    "eg:: mi mobile on amazon\n",
    "create one container and use while loop to enter the new mobile details also"
   ]
  },
  {
   "cell_type": "code",
   "execution_count": 128,
   "id": "9de68dbd-fa28-4b34-ae89-01c73b1dc55e",
   "metadata": {},
   "outputs": [
    {
     "name": "stdin",
     "output_type": "stream",
     "text": [
      "enter a no 4\n"
     ]
    },
    {
     "name": "stdout",
     "output_type": "stream",
     "text": [
      "4 * 1 = 4\n",
      "4 * 2 = 8\n",
      "4 * 3 = 12\n",
      "4 * 4 = 16\n",
      "4 * 5 = 20\n",
      "4 * 6 = 24\n",
      "4 * 7 = 28\n",
      "4 * 8 = 32\n",
      "4 * 9 = 36\n",
      "4 * 10 = 40\n"
     ]
    }
   ],
   "source": [
    "number= int(input(\"enter a no\"))\n",
    "i=1\n",
    "while i<11:\n",
    "    print (number, \"*\", i,\"=\", number*i)\n",
    "    i+=1"
   ]
  },
  {
   "cell_type": "markdown",
   "id": "310e20fe-a4b7-4624-a562-296a98ac6a35",
   "metadata": {},
   "source": [
    "## Gussing game"
   ]
  },
  {
   "cell_type": "code",
   "execution_count": 131,
   "id": "a4b7a522-71c6-4600-88d1-e4cbf6865a58",
   "metadata": {},
   "outputs": [
    {
     "data": {
      "text/plain": [
       "82"
      ]
     },
     "execution_count": 131,
     "metadata": {},
     "output_type": "execute_result"
    }
   ],
   "source": [
    "import random\n",
    "random.randint(1,100)"
   ]
  },
  {
   "cell_type": "code",
   "execution_count": 138,
   "id": "5081f035-5ce8-494f-a6be-978649dd78c6",
   "metadata": {},
   "outputs": [
    {
     "name": "stdin",
     "output_type": "stream",
     "text": [
      "guess the number 60\n"
     ]
    },
    {
     "name": "stdout",
     "output_type": "stream",
     "text": [
      "guess higher\n"
     ]
    },
    {
     "name": "stdin",
     "output_type": "stream",
     "text": [
      "guess the number 70\n"
     ]
    },
    {
     "name": "stdout",
     "output_type": "stream",
     "text": [
      "guess higher\n"
     ]
    },
    {
     "name": "stdin",
     "output_type": "stream",
     "text": [
      "guess the number 80\n"
     ]
    },
    {
     "name": "stdout",
     "output_type": "stream",
     "text": [
      "guess lower\n"
     ]
    },
    {
     "name": "stdin",
     "output_type": "stream",
     "text": [
      "guess the number 75\n"
     ]
    },
    {
     "name": "stdout",
     "output_type": "stream",
     "text": [
      "guess lower\n"
     ]
    },
    {
     "name": "stdin",
     "output_type": "stream",
     "text": [
      "guess the number 72\n"
     ]
    },
    {
     "name": "stdout",
     "output_type": "stream",
     "text": [
      "correct guess in 5 attempts\n"
     ]
    }
   ],
   "source": [
    "jackpot=random.randint(1,100)\n",
    "guess=int(input(\"guess the number\"))\n",
    "guesses=1\n",
    "while guess!=jackpot:\n",
    "    guesses+=1\n",
    "    if guess< jackpot:\n",
    "         print(\"guess higher\")\n",
    "    else:\n",
    "         print(\"guess lower\")\n",
    "    \n",
    "    guess=int(input(\"guess the number\"))\n",
    "print(f\"correct guess in {guesses} attempts\")    "
   ]
  },
  {
   "cell_type": "markdown",
   "id": "d885ca33-3bb0-44a9-8b11-5b19552532f3",
   "metadata": {},
   "source": [
    "## For loop"
   ]
  },
  {
   "cell_type": "code",
   "execution_count": 143,
   "id": "ced686bc-4d91-4917-a015-a8627729fc7f",
   "metadata": {},
   "outputs": [
    {
     "data": {
      "text/plain": [
       "[0, 1, 2, 3, 4, 5, 6, 7, 8, 9]"
      ]
     },
     "execution_count": 143,
     "metadata": {},
     "output_type": "execute_result"
    }
   ],
   "source": [
    "## range function    (start, stop, step)\n",
    "list(range (0, 10))"
   ]
  },
  {
   "cell_type": "code",
   "execution_count": 144,
   "id": "1100d0d6-19d0-46e5-92d5-d03f159c5741",
   "metadata": {},
   "outputs": [
    {
     "data": {
      "text/plain": [
       "[0, 2, 4, 6, 8]"
      ]
     },
     "execution_count": 144,
     "metadata": {},
     "output_type": "execute_result"
    }
   ],
   "source": [
    "list(range (0, 10,2))"
   ]
  },
  {
   "cell_type": "code",
   "execution_count": 145,
   "id": "6e049e79-2460-4331-a143-fc31d511e45f",
   "metadata": {},
   "outputs": [
    {
     "data": {
      "text/plain": [
       "[10, 8, 6, 4, 2]"
      ]
     },
     "execution_count": 145,
     "metadata": {},
     "output_type": "execute_result"
    }
   ],
   "source": [
    "list(range(10,0,-2))      ## backward steps"
   ]
  },
  {
   "cell_type": "markdown",
   "id": "e9931581-552e-47be-b774-37383921dcf2",
   "metadata": {},
   "source": [
    "Sequence::\n",
    "anthing in a paticular order \n",
    "words or lettesrs etc.\n",
    "FOR LOOP WORKS ON SEQUENCES OR RANGE."
   ]
  },
  {
   "cell_type": "code",
   "execution_count": 146,
   "id": "3e30d23f-cd10-488d-9412-4661e74873f7",
   "metadata": {},
   "outputs": [
    {
     "name": "stdout",
     "output_type": "stream",
     "text": [
      "1\n",
      "4\n",
      "7\n",
      "10\n"
     ]
    }
   ],
   "source": [
    "for i in range (1,11,3):\n",
    "    print(i)"
   ]
  },
  {
   "cell_type": "code",
   "execution_count": 148,
   "id": "5308484e-a326-454c-a375-087faace336d",
   "metadata": {},
   "outputs": [
    {
     "name": "stdout",
     "output_type": "stream",
     "text": [
      "p\n",
      "r\n",
      "e\n",
      "e\n",
      "t\n",
      "i\n"
     ]
    }
   ],
   "source": [
    "for i in \"preeti\":\n",
    "    print (i)"
   ]
  },
  {
   "cell_type": "code",
   "execution_count": null,
   "id": "afa7b927-87f5-4361-a4af-e34959a12caa",
   "metadata": {},
   "outputs": [],
   "source": []
  },
  {
   "cell_type": "code",
   "execution_count": null,
   "id": "a32cd17f-9f93-41bd-b75d-161fff866754",
   "metadata": {},
   "outputs": [],
   "source": []
  },
  {
   "cell_type": "markdown",
   "id": "2b9c2ea7-ce6e-444d-8c65-86276a24b467",
   "metadata": {},
   "source": [
    "## NESTED LOOPS"
   ]
  },
  {
   "cell_type": "markdown",
   "id": "56c052e5-658a-4526-b6f5-40c348d83786",
   "metadata": {},
   "source": [
    "time complexity is high time**n\n",
    "But sometimes we have to use nested loops"
   ]
  },
  {
   "cell_type": "code",
   "execution_count": 5,
   "id": "0f2c9e54-91ed-4df3-adf6-733b09e982f7",
   "metadata": {},
   "outputs": [
    {
     "name": "stdin",
     "output_type": "stream",
     "text": [
      "enter the no of rows 5\n"
     ]
    },
    {
     "name": "stdout",
     "output_type": "stream",
     "text": [
      "*\n",
      "**\n",
      "***\n",
      "****\n",
      "*****\n"
     ]
    }
   ],
   "source": [
    "rows=int(input(\"enter the no of rows\"))\n",
    "for i in range(1,rows+1):\n",
    "    for j in range(0,i):\n",
    "        print(\"*\", end=\"\" )#**** end::string appended after the last value, default a newline\n",
    "    print(\"\")   # this print is used to end the previous print statement"
   ]
  },
  {
   "cell_type": "code",
   "execution_count": null,
   "id": "dfacc7bc-75a9-47de-80e5-71c67a0b8379",
   "metadata": {},
   "outputs": [],
   "source": [
    "# we can use pythotutor.com to visualize the codes"
   ]
  },
  {
   "cell_type": "markdown",
   "id": "6cc70799-9892-4232-aa7d-77a059a2cd39",
   "metadata": {},
   "source": [
    "## Break, Continue, Pass"
   ]
  },
  {
   "cell_type": "markdown",
   "id": "47601ed1-eb84-49fd-af71-9ea1ef6094ab",
   "metadata": {},
   "source": [
    "eg:: if we want to search someone in a list of 1000 names at 100 position after that we can break the loop"
   ]
  },
  {
   "cell_type": "code",
   "execution_count": 7,
   "id": "7c246d5f-d160-41b3-bf0b-38836682b321",
   "metadata": {},
   "outputs": [
    {
     "name": "stdout",
     "output_type": "stream",
     "text": [
      "1\n",
      "2\n",
      "3\n",
      "4\n"
     ]
    }
   ],
   "source": [
    "for i in range(1,11):   \n",
    "    if i==5:\n",
    "        break\n",
    "    print(i)    "
   ]
  },
  {
   "cell_type": "markdown",
   "id": "9b202619-b7cd-49d6-9574-b55798f905ed",
   "metadata": {},
   "source": [
    "eg:: if we want to display only the instock products"
   ]
  },
  {
   "cell_type": "code",
   "execution_count": 8,
   "id": "752e34d2-7e01-4758-a002-36b5cba90574",
   "metadata": {},
   "outputs": [
    {
     "name": "stdout",
     "output_type": "stream",
     "text": [
      "1\n",
      "2\n",
      "3\n",
      "4\n",
      "6\n",
      "7\n",
      "8\n",
      "9\n",
      "10\n"
     ]
    }
   ],
   "source": [
    "for i in range(1,11):   \n",
    "    if i==5:     #** when the condition meets it will skip and keep running further\n",
    "        continue\n",
    "    print(i)    #### will not print 5"
   ]
  },
  {
   "cell_type": "code",
   "execution_count": 9,
   "id": "6b4c8f77-a9dd-4d99-a3d2-f65935de8b07",
   "metadata": {},
   "outputs": [
    {
     "name": "stdout",
     "output_type": "stream",
     "text": [
      "1\n",
      "2\n",
      "3\n",
      "4\n",
      "5\n",
      "6\n",
      "7\n",
      "8\n",
      "9\n",
      "10\n"
     ]
    }
   ],
   "source": [
    "for i in range(1,11):   \n",
    "    if i==5:    \n",
    "        pass\n",
    "    print(i) "
   ]
  },
  {
   "cell_type": "markdown",
   "id": "7594a77f-e408-4cb3-885b-78e16b102468",
   "metadata": {},
   "source": [
    "## built in functions"
   ]
  },
  {
   "cell_type": "code",
   "execution_count": null,
   "id": "c9089714-6b5b-43e3-8177-37a47ff7e84c",
   "metadata": {},
   "outputs": [],
   "source": [
    "print\n",
    "input\n",
    "type\n",
    "len\n",
    "sum\n",
    "etc"
   ]
  },
  {
   "cell_type": "code",
   "execution_count": 10,
   "id": "9abcdfa0-cea4-4d72-bec8-fd702f329732",
   "metadata": {},
   "outputs": [
    {
     "data": {
      "text/plain": [
       "5"
      ]
     },
     "execution_count": 10,
     "metadata": {},
     "output_type": "execute_result"
    }
   ],
   "source": [
    "int(5.6)"
   ]
  },
  {
   "cell_type": "code",
   "execution_count": 11,
   "id": "025e380e-b7d9-47cc-89cf-24af872c7d25",
   "metadata": {},
   "outputs": [
    {
     "data": {
      "text/plain": [
       "5.0"
      ]
     },
     "execution_count": 11,
     "metadata": {},
     "output_type": "execute_result"
    }
   ],
   "source": [
    "float(5)"
   ]
  },
  {
   "cell_type": "code",
   "execution_count": 12,
   "id": "f6c5410b-2322-4f68-9cfe-8a303ac7fe28",
   "metadata": {},
   "outputs": [
    {
     "data": {
      "text/plain": [
       "'5.6'"
      ]
     },
     "execution_count": 12,
     "metadata": {},
     "output_type": "execute_result"
    }
   ],
   "source": [
    "str(5.6)"
   ]
  },
  {
   "cell_type": "code",
   "execution_count": 13,
   "id": "dd8cfead-25ef-4430-8def-b5c7fa2f5a17",
   "metadata": {},
   "outputs": [
    {
     "data": {
      "text/plain": [
       "1"
      ]
     },
     "execution_count": 13,
     "metadata": {},
     "output_type": "execute_result"
    }
   ],
   "source": [
    "abs(-1)    ## absolute"
   ]
  },
  {
   "cell_type": "code",
   "execution_count": 14,
   "id": "6d25e8d6-6ed8-4277-87c7-49045c44be12",
   "metadata": {},
   "outputs": [
    {
     "data": {
      "text/plain": [
       "8"
      ]
     },
     "execution_count": 14,
     "metadata": {},
     "output_type": "execute_result"
    }
   ],
   "source": [
    "pow(2,3)    ## power"
   ]
  },
  {
   "cell_type": "code",
   "execution_count": 15,
   "id": "2532a14a-ad78-4744-ac78-6ee43ea71afe",
   "metadata": {},
   "outputs": [
    {
     "data": {
      "text/plain": [
       "1"
      ]
     },
     "execution_count": 15,
     "metadata": {},
     "output_type": "execute_result"
    }
   ],
   "source": [
    "min([2,8,4,6,4,2,1])"
   ]
  },
  {
   "cell_type": "code",
   "execution_count": 16,
   "id": "497b875b-f7f1-4646-bdee-126e664cc7dd",
   "metadata": {},
   "outputs": [
    {
     "data": {
      "text/plain": [
       "'t'"
      ]
     },
     "execution_count": 16,
     "metadata": {},
     "output_type": "execute_result"
    }
   ],
   "source": [
    "max(\"preeti\")"
   ]
  },
  {
   "cell_type": "code",
   "execution_count": 21,
   "id": "53d39a2f-5515-4a49-b18b-2ef4fe7a28f2",
   "metadata": {},
   "outputs": [
    {
     "data": {
      "text/plain": [
       "6"
      ]
     },
     "execution_count": 21,
     "metadata": {},
     "output_type": "execute_result"
    }
   ],
   "source": [
    "round(5.6)"
   ]
  },
  {
   "cell_type": "code",
   "execution_count": 19,
   "id": "cfc55dcf-55ff-47d9-b704-49ecda82d10c",
   "metadata": {},
   "outputs": [
    {
     "data": {
      "text/plain": [
       "3"
      ]
     },
     "execution_count": 19,
     "metadata": {},
     "output_type": "execute_result"
    }
   ],
   "source": [
    "a=22/7\n",
    "round(a)"
   ]
  },
  {
   "cell_type": "code",
   "execution_count": 23,
   "id": "f4fb21a1-df72-4176-8339-fe0f02a9b455",
   "metadata": {},
   "outputs": [
    {
     "ename": "NameError",
     "evalue": "name 'divmode' is not defined",
     "output_type": "error",
     "traceback": [
      "\u001b[1;31m---------------------------------------------------------------------------\u001b[0m",
      "\u001b[1;31mNameError\u001b[0m                                 Traceback (most recent call last)",
      "Cell \u001b[1;32mIn[23], line 1\u001b[0m\n\u001b[1;32m----> 1\u001b[0m divmode(\u001b[38;5;241m5\u001b[39m,\u001b[38;5;241m2\u001b[39m)\n",
      "\u001b[1;31mNameError\u001b[0m: name 'divmode' is not defined"
     ]
    }
   ],
   "source": [
    "divmode(5,2)"
   ]
  },
  {
   "cell_type": "code",
   "execution_count": 25,
   "id": "35731a7a-db73-44a1-ba5f-328e0d263d10",
   "metadata": {},
   "outputs": [
    {
     "data": {
      "text/plain": [
       "'0o5'"
      ]
     },
     "execution_count": 25,
     "metadata": {},
     "output_type": "execute_result"
    }
   ],
   "source": [
    "#bin/oct/hex\n",
    "oct(5)"
   ]
  },
  {
   "cell_type": "code",
   "execution_count": 26,
   "id": "23d5d7f9-a79c-4443-a7fc-47dc81247a0e",
   "metadata": {},
   "outputs": [
    {
     "data": {
      "text/plain": [
       "140724791526248"
      ]
     },
     "execution_count": 26,
     "metadata": {},
     "output_type": "execute_result"
    }
   ],
   "source": [
    "# id\n",
    "a=3\n",
    "id(a)"
   ]
  },
  {
   "cell_type": "code",
   "execution_count": 27,
   "id": "396f7839-8ab7-4363-b5dc-360bead235b4",
   "metadata": {},
   "outputs": [
    {
     "data": {
      "text/plain": [
       "116"
      ]
     },
     "execution_count": 27,
     "metadata": {},
     "output_type": "execute_result"
    }
   ],
   "source": [
    "#ord\n",
    "ord(\"t\")   ## gives ascii value"
   ]
  },
  {
   "cell_type": "code",
   "execution_count": null,
   "id": "10cd9c4c-4516-4e16-bd9f-b111abf5a82b",
   "metadata": {},
   "outputs": [],
   "source": [
    "##help(\"func_name\")\n",
    "help(\"print\")"
   ]
  },
  {
   "cell_type": "markdown",
   "id": "34a543f5-b800-40eb-adfe-307f59fcaa73",
   "metadata": {},
   "source": [
    "## Built in modules"
   ]
  },
  {
   "cell_type": "markdown",
   "id": "98fbb260-854f-4386-9edb-0beb44261c4c",
   "metadata": {},
   "source": [
    "math,random,os,time"
   ]
  },
  {
   "cell_type": "code",
   "execution_count": 29,
   "id": "2b7a2ca2-d37c-4b67-8a39-abe70228cf37",
   "metadata": {},
   "outputs": [
    {
     "name": "stdout",
     "output_type": "stream",
     "text": [
      "\n",
      "Please wait a moment while I gather a list of all available modules...\n",
      "\n"
     ]
    },
    {
     "name": "stderr",
     "output_type": "stream",
     "text": [
      "C:\\Users\\preet\\anaconda3\\Lib\\pkgutil.py:92: UserWarning: \n",
      "The dash_core_components package is deprecated. Please replace\n",
      "`import dash_core_components as dcc` with `from dash import dcc`\n",
      "  __import__(info.name)\n",
      "C:\\Users\\preet\\anaconda3\\Lib\\pkgutil.py:92: UserWarning: \n",
      "The dash_html_components package is deprecated. Please replace\n",
      "`import dash_html_components as html` with `from dash import html`\n",
      "  __import__(info.name)\n",
      "C:\\Users\\preet\\anaconda3\\Lib\\pkgutil.py:92: UserWarning: \n",
      "The dash_table package is deprecated. Please replace\n",
      "`import dash_table` with `from dash import dash_table`\n",
      "\n",
      "Also, if you're using any of the table format helpers (e.g. Group), replace \n",
      "`from dash_table.Format import Group` with \n",
      "`from dash.dash_table.Format import Group`\n",
      "  __import__(info.name)\n",
      "C:\\Users\\preet\\anaconda3\\Lib\\site-packages\\paramiko\\transport.py:219: CryptographyDeprecationWarning:\n",
      "\n",
      "Blowfish has been deprecated and will be removed in a future release\n",
      "\n",
      "C:\\Users\\preet\\anaconda3\\Lib\\site-packages\\nltk\\twitter\\__init__.py:20: UserWarning:\n",
      "\n",
      "The twython library has not been installed. Some functionality from the twitter package will not be available.\n",
      "\n",
      "C:\\Users\\preet\\anaconda3\\Lib\\pkgutil.py:92: UserWarning:\n",
      "\n",
      "The numpy.array_api submodule is still experimental. See NEP 47.\n",
      "\n",
      "C:\\Users\\preet\\anaconda3\\Lib\\site-packages\\_distutils_hack\\__init__.py:33: UserWarning:\n",
      "\n",
      "Setuptools is replacing distutils.\n",
      "\n",
      "C:\\Users\\preet\\anaconda3\\Lib\\site-packages\\pydantic\\experimental\\__init__.py:7: PydanticExperimentalWarning:\n",
      "\n",
      "This module is experimental, its contents are subject to change and deprecation.\n",
      "\n",
      "No QCoreApplication instance found. Application patches not applied. You have to call load_stylesheet function after instantiation of QApplication to take effect. \n",
      "C:\\Users\\preet\\anaconda3\\Lib\\pkgutil.py:92: DeprecationWarning:\n",
      "\n",
      "`torch.distributed._shard.checkpoint` will be deprecated, use `torch.distributed.checkpoint` instead\n",
      "\n",
      "C:\\Users\\preet\\anaconda3\\Lib\\pkgutil.py:92: DeprecationWarning:\n",
      "\n",
      "`torch.distributed._sharded_tensor` will be deprecated, use `torch.distributed._shard.sharded_tensor` instead\n",
      "\n",
      "C:\\Users\\preet\\anaconda3\\Lib\\pkgutil.py:92: DeprecationWarning:\n",
      "\n",
      "`torch.distributed._sharding_spec` will be deprecated, use `torch.distributed._shard.sharding_spec` instead\n",
      "\n",
      "C:\\Users\\preet\\anaconda3\\Lib\\site-packages\\torch\\distributed\\algorithms\\_optimizer_overlap\\optimizer_overlap.py:12: DeprecationWarning:\n",
      "\n",
      "`TorchScript` support for functional optimizers is deprecated and will be removed in a future PyTorch release. Consider using the `torch.compile` optimizer instead.\n",
      "\n",
      "W1225 03:32:25.732000 5200 preet\\anaconda3\\Lib\\site-packages\\torch\\distributed\\elastic\\multiprocessing\\redirects.py:29] NOTE: Redirects are currently not supported in Windows or MacOs.\n",
      "<frozen importlib._bootstrap>:1047: ImportWarning:\n",
      "\n",
      "BackendFinder.find_spec() not found; falling back to find_module()\n",
      "\n",
      "<frozen importlib._bootstrap>:673: ImportWarning:\n",
      "\n",
      "BackendLoader.exec_module() not found; falling back to load_module()\n",
      "\n",
      "C:\\Users\\preet\\anaconda3\\Lib\\site-packages\\wordcloud\\wordcloud.py:35: ResourceWarning:\n",
      "\n",
      "unclosed file <_io.TextIOWrapper name='C:\\\\Users\\\\preet\\\\anaconda3\\\\Lib\\\\site-packages\\\\wordcloud\\\\stopwords' mode='r' encoding='cp1252'>\n",
      "\n",
      "<frozen importlib._bootstrap>:1047: ImportWarning:\n",
      "\n",
      "BackendFinder.find_spec() not found; falling back to find_module()\n",
      "\n"
     ]
    },
    {
     "ename": "Skipped",
     "evalue": "could not import 'hypothesis': No module named 'hypothesis'",
     "output_type": "error",
     "traceback": [
      "\u001b[1;31m---------------------------------------------------------------------------\u001b[0m",
      "\u001b[1;31mSkipped\u001b[0m                                   Traceback (most recent call last)",
      "Cell \u001b[1;32mIn[29], line 1\u001b[0m\n\u001b[1;32m----> 1\u001b[0m help(\u001b[38;5;124m\"\u001b[39m\u001b[38;5;124mmodules\u001b[39m\u001b[38;5;124m\"\u001b[39m)\n",
      "File \u001b[1;32m<frozen _sitebuiltins>:103\u001b[0m, in \u001b[0;36m__call__\u001b[1;34m(self, *args, **kwds)\u001b[0m\n",
      "File \u001b[1;32m~\\anaconda3\\Lib\\pydoc.py:2011\u001b[0m, in \u001b[0;36mHelper.__call__\u001b[1;34m(self, request)\u001b[0m\n\u001b[0;32m   2009\u001b[0m \u001b[38;5;28;01mif\u001b[39;00m request \u001b[38;5;129;01mis\u001b[39;00m \u001b[38;5;129;01mnot\u001b[39;00m \u001b[38;5;28mself\u001b[39m\u001b[38;5;241m.\u001b[39m_GoInteractive:\n\u001b[0;32m   2010\u001b[0m     \u001b[38;5;28;01mtry\u001b[39;00m:\n\u001b[1;32m-> 2011\u001b[0m         \u001b[38;5;28mself\u001b[39m\u001b[38;5;241m.\u001b[39mhelp(request)\n\u001b[0;32m   2012\u001b[0m     \u001b[38;5;28;01mexcept\u001b[39;00m \u001b[38;5;167;01mImportError\u001b[39;00m \u001b[38;5;28;01mas\u001b[39;00m e:\n\u001b[0;32m   2013\u001b[0m         \u001b[38;5;28mself\u001b[39m\u001b[38;5;241m.\u001b[39moutput\u001b[38;5;241m.\u001b[39mwrite(\u001b[38;5;124mf\u001b[39m\u001b[38;5;124m'\u001b[39m\u001b[38;5;132;01m{\u001b[39;00me\u001b[38;5;132;01m}\u001b[39;00m\u001b[38;5;130;01m\\n\u001b[39;00m\u001b[38;5;124m'\u001b[39m)\n",
      "File \u001b[1;32m~\\anaconda3\\Lib\\pydoc.py:2060\u001b[0m, in \u001b[0;36mHelper.help\u001b[1;34m(self, request, is_cli)\u001b[0m\n\u001b[0;32m   2058\u001b[0m \u001b[38;5;28;01melif\u001b[39;00m request \u001b[38;5;241m==\u001b[39m \u001b[38;5;124m'\u001b[39m\u001b[38;5;124msymbols\u001b[39m\u001b[38;5;124m'\u001b[39m: \u001b[38;5;28mself\u001b[39m\u001b[38;5;241m.\u001b[39mlistsymbols()\n\u001b[0;32m   2059\u001b[0m \u001b[38;5;28;01melif\u001b[39;00m request \u001b[38;5;241m==\u001b[39m \u001b[38;5;124m'\u001b[39m\u001b[38;5;124mtopics\u001b[39m\u001b[38;5;124m'\u001b[39m: \u001b[38;5;28mself\u001b[39m\u001b[38;5;241m.\u001b[39mlisttopics()\n\u001b[1;32m-> 2060\u001b[0m \u001b[38;5;28;01melif\u001b[39;00m request \u001b[38;5;241m==\u001b[39m \u001b[38;5;124m'\u001b[39m\u001b[38;5;124mmodules\u001b[39m\u001b[38;5;124m'\u001b[39m: \u001b[38;5;28mself\u001b[39m\u001b[38;5;241m.\u001b[39mlistmodules()\n\u001b[0;32m   2061\u001b[0m \u001b[38;5;28;01melif\u001b[39;00m request[:\u001b[38;5;241m8\u001b[39m] \u001b[38;5;241m==\u001b[39m \u001b[38;5;124m'\u001b[39m\u001b[38;5;124mmodules \u001b[39m\u001b[38;5;124m'\u001b[39m:\n\u001b[0;32m   2062\u001b[0m     \u001b[38;5;28mself\u001b[39m\u001b[38;5;241m.\u001b[39mlistmodules(request\u001b[38;5;241m.\u001b[39msplit()[\u001b[38;5;241m1\u001b[39m])\n",
      "File \u001b[1;32m~\\anaconda3\\Lib\\pydoc.py:2214\u001b[0m, in \u001b[0;36mHelper.listmodules\u001b[1;34m(self, key)\u001b[0m\n\u001b[0;32m   2212\u001b[0m             \u001b[38;5;28;01mdef\u001b[39;00m \u001b[38;5;21monerror\u001b[39m(modname):\n\u001b[0;32m   2213\u001b[0m                 callback(\u001b[38;5;28;01mNone\u001b[39;00m, modname, \u001b[38;5;28;01mNone\u001b[39;00m)\n\u001b[1;32m-> 2214\u001b[0m             ModuleScanner()\u001b[38;5;241m.\u001b[39mrun(callback, onerror\u001b[38;5;241m=\u001b[39monerror)\n\u001b[0;32m   2215\u001b[0m             \u001b[38;5;28mself\u001b[39m\u001b[38;5;241m.\u001b[39mlist(modules\u001b[38;5;241m.\u001b[39mkeys())\n\u001b[0;32m   2216\u001b[0m             \u001b[38;5;28mself\u001b[39m\u001b[38;5;241m.\u001b[39moutput\u001b[38;5;241m.\u001b[39mwrite(\u001b[38;5;124m'''\u001b[39m\n\u001b[0;32m   2217\u001b[0m \u001b[38;5;124mEnter any module name to get more help.  Or, type \u001b[39m\u001b[38;5;124m\"\u001b[39m\u001b[38;5;124mmodules spam\u001b[39m\u001b[38;5;124m\"\u001b[39m\u001b[38;5;124m to search\u001b[39m\n\u001b[0;32m   2218\u001b[0m \u001b[38;5;124mfor modules whose name or summary contain the string \u001b[39m\u001b[38;5;124m\"\u001b[39m\u001b[38;5;124mspam\u001b[39m\u001b[38;5;124m\"\u001b[39m\u001b[38;5;124m.\u001b[39m\n\u001b[0;32m   2219\u001b[0m \u001b[38;5;124m'''\u001b[39m)\n",
      "File \u001b[1;32m~\\anaconda3\\Lib\\pydoc.py:2243\u001b[0m, in \u001b[0;36mModuleScanner.run\u001b[1;34m(self, callback, key, completer, onerror)\u001b[0m\n\u001b[0;32m   2240\u001b[0m             \u001b[38;5;28;01mif\u001b[39;00m name\u001b[38;5;241m.\u001b[39mlower()\u001b[38;5;241m.\u001b[39mfind(key) \u001b[38;5;241m>\u001b[39m\u001b[38;5;241m=\u001b[39m \u001b[38;5;241m0\u001b[39m:\n\u001b[0;32m   2241\u001b[0m                 callback(\u001b[38;5;28;01mNone\u001b[39;00m, modname, desc)\n\u001b[1;32m-> 2243\u001b[0m \u001b[38;5;28;01mfor\u001b[39;00m importer, modname, ispkg \u001b[38;5;129;01min\u001b[39;00m pkgutil\u001b[38;5;241m.\u001b[39mwalk_packages(onerror\u001b[38;5;241m=\u001b[39monerror):\n\u001b[0;32m   2244\u001b[0m     \u001b[38;5;28;01mif\u001b[39;00m \u001b[38;5;28mself\u001b[39m\u001b[38;5;241m.\u001b[39mquit:\n\u001b[0;32m   2245\u001b[0m         \u001b[38;5;28;01mbreak\u001b[39;00m\n",
      "File \u001b[1;32m~\\anaconda3\\Lib\\pkgutil.py:107\u001b[0m, in \u001b[0;36mwalk_packages\u001b[1;34m(path, prefix, onerror)\u001b[0m\n\u001b[0;32m    104\u001b[0m \u001b[38;5;66;03m# don't traverse path items we've seen before\u001b[39;00m\n\u001b[0;32m    105\u001b[0m path \u001b[38;5;241m=\u001b[39m [p \u001b[38;5;28;01mfor\u001b[39;00m p \u001b[38;5;129;01min\u001b[39;00m path \u001b[38;5;28;01mif\u001b[39;00m \u001b[38;5;129;01mnot\u001b[39;00m seen(p)]\n\u001b[1;32m--> 107\u001b[0m \u001b[38;5;28;01myield from\u001b[39;00m walk_packages(path, info\u001b[38;5;241m.\u001b[39mname\u001b[38;5;241m+\u001b[39m\u001b[38;5;124m'\u001b[39m\u001b[38;5;124m.\u001b[39m\u001b[38;5;124m'\u001b[39m, onerror)\n",
      "File \u001b[1;32m~\\anaconda3\\Lib\\pkgutil.py:92\u001b[0m, in \u001b[0;36mwalk_packages\u001b[1;34m(path, prefix, onerror)\u001b[0m\n\u001b[0;32m     90\u001b[0m \u001b[38;5;28;01mif\u001b[39;00m info\u001b[38;5;241m.\u001b[39mispkg:\n\u001b[0;32m     91\u001b[0m     \u001b[38;5;28;01mtry\u001b[39;00m:\n\u001b[1;32m---> 92\u001b[0m         \u001b[38;5;28m__import__\u001b[39m(info\u001b[38;5;241m.\u001b[39mname)\n\u001b[0;32m     93\u001b[0m     \u001b[38;5;28;01mexcept\u001b[39;00m \u001b[38;5;167;01mImportError\u001b[39;00m:\n\u001b[0;32m     94\u001b[0m         \u001b[38;5;28;01mif\u001b[39;00m onerror \u001b[38;5;129;01mis\u001b[39;00m \u001b[38;5;129;01mnot\u001b[39;00m \u001b[38;5;28;01mNone\u001b[39;00m:\n",
      "File \u001b[1;32m~\\anaconda3\\Lib\\site-packages\\xgboost\\testing\\__init__.py:52\u001b[0m\n\u001b[0;32m     42\u001b[0m \u001b[38;5;28;01mfrom\u001b[39;00m \u001b[38;5;21;01mxgboost\u001b[39;00m\u001b[38;5;21;01m.\u001b[39;00m\u001b[38;5;21;01msklearn\u001b[39;00m \u001b[38;5;28;01mimport\u001b[39;00m SklObjective\n\u001b[0;32m     43\u001b[0m \u001b[38;5;28;01mfrom\u001b[39;00m \u001b[38;5;21;01mxgboost\u001b[39;00m\u001b[38;5;21;01m.\u001b[39;00m\u001b[38;5;21;01mtesting\u001b[39;00m\u001b[38;5;21;01m.\u001b[39;00m\u001b[38;5;21;01mdata\u001b[39;00m \u001b[38;5;28;01mimport\u001b[39;00m (\n\u001b[0;32m     44\u001b[0m     get_california_housing,\n\u001b[0;32m     45\u001b[0m     get_cancer,\n\u001b[1;32m   (...)\u001b[0m\n\u001b[0;32m     49\u001b[0m     memory,\n\u001b[0;32m     50\u001b[0m )\n\u001b[1;32m---> 52\u001b[0m hypothesis \u001b[38;5;241m=\u001b[39m pytest\u001b[38;5;241m.\u001b[39mimportorskip(\u001b[38;5;124m\"\u001b[39m\u001b[38;5;124mhypothesis\u001b[39m\u001b[38;5;124m\"\u001b[39m)\n\u001b[0;32m     54\u001b[0m \u001b[38;5;66;03m# pylint:disable=wrong-import-position,wrong-import-order\u001b[39;00m\n\u001b[0;32m     55\u001b[0m \u001b[38;5;28;01mfrom\u001b[39;00m \u001b[38;5;21;01mhypothesis\u001b[39;00m \u001b[38;5;28;01mimport\u001b[39;00m strategies\n",
      "File \u001b[1;32m~\\anaconda3\\Lib\\site-packages\\_pytest\\outcomes.py:296\u001b[0m, in \u001b[0;36mimportorskip\u001b[1;34m(modname, minversion, reason)\u001b[0m\n\u001b[0;32m    294\u001b[0m         \u001b[38;5;28;01mif\u001b[39;00m reason \u001b[38;5;129;01mis\u001b[39;00m \u001b[38;5;28;01mNone\u001b[39;00m:\n\u001b[0;32m    295\u001b[0m             reason \u001b[38;5;241m=\u001b[39m \u001b[38;5;124mf\u001b[39m\u001b[38;5;124m\"\u001b[39m\u001b[38;5;124mcould not import \u001b[39m\u001b[38;5;132;01m{\u001b[39;00mmodname\u001b[38;5;132;01m!r}\u001b[39;00m\u001b[38;5;124m: \u001b[39m\u001b[38;5;132;01m{\u001b[39;00mexc\u001b[38;5;132;01m}\u001b[39;00m\u001b[38;5;124m\"\u001b[39m\n\u001b[1;32m--> 296\u001b[0m         \u001b[38;5;28;01mraise\u001b[39;00m Skipped(reason, allow_module_level\u001b[38;5;241m=\u001b[39m\u001b[38;5;28;01mTrue\u001b[39;00m) \u001b[38;5;28;01mfrom\u001b[39;00m \u001b[38;5;28;01mNone\u001b[39;00m\n\u001b[0;32m    297\u001b[0m mod \u001b[38;5;241m=\u001b[39m sys\u001b[38;5;241m.\u001b[39mmodules[modname]\n\u001b[0;32m    298\u001b[0m \u001b[38;5;28;01mif\u001b[39;00m minversion \u001b[38;5;129;01mis\u001b[39;00m \u001b[38;5;28;01mNone\u001b[39;00m:\n",
      "\u001b[1;31mSkipped\u001b[0m: could not import 'hypothesis': No module named 'hypothesis'"
     ]
    }
   ],
   "source": [
    "help(\"modules\")"
   ]
  },
  {
   "cell_type": "code",
   "execution_count": 30,
   "id": "f6c08c52-d8d1-49dd-95d4-ef80da03cb48",
   "metadata": {},
   "outputs": [
    {
     "data": {
      "text/plain": [
       "2.321928094887362"
      ]
     },
     "execution_count": 30,
     "metadata": {},
     "output_type": "execute_result"
    }
   ],
   "source": [
    "import math\n",
    "math.log2(5)   ## alot of fonctions"
   ]
  },
  {
   "cell_type": "code",
   "execution_count": 32,
   "id": "604b3aed-c0e1-43d3-90b7-903719dd189f",
   "metadata": {},
   "outputs": [
    {
     "data": {
      "text/plain": [
       "90"
      ]
     },
     "execution_count": 32,
     "metadata": {},
     "output_type": "execute_result"
    }
   ],
   "source": [
    "import random\n",
    "random.randint(1,100)"
   ]
  },
  {
   "cell_type": "code",
   "execution_count": 34,
   "id": "40b94ef5-0ffa-4664-9909-daf3e1a79d13",
   "metadata": {},
   "outputs": [
    {
     "data": {
      "text/plain": [
       "[4, 5, 3, 1, 6, 2]"
      ]
     },
     "execution_count": 34,
     "metadata": {},
     "output_type": "execute_result"
    }
   ],
   "source": [
    "a=[1,2,3,4,5,6]\n",
    "random.shuffle(a)\n",
    "a"
   ]
  },
  {
   "cell_type": "code",
   "execution_count": 36,
   "id": "993a06e0-f0c3-4985-82e9-c792865295a2",
   "metadata": {},
   "outputs": [
    {
     "data": {
      "text/plain": [
       "1735078166.9313898"
      ]
     },
     "execution_count": 36,
     "metadata": {},
     "output_type": "execute_result"
    }
   ],
   "source": [
    "import time\n",
    "time.time()"
   ]
  },
  {
   "cell_type": "code",
   "execution_count": 37,
   "id": "a3210ecb-4990-478e-ac2d-4a18e4c598e1",
   "metadata": {},
   "outputs": [
    {
     "data": {
      "text/plain": [
       "'Wed Dec 25 03:39:41 2024'"
      ]
     },
     "execution_count": 37,
     "metadata": {},
     "output_type": "execute_result"
    }
   ],
   "source": [
    "time.ctime()"
   ]
  },
  {
   "cell_type": "code",
   "execution_count": 38,
   "id": "53489f25-be74-48f8-92d3-b13e1e8adf62",
   "metadata": {},
   "outputs": [
    {
     "name": "stdout",
     "output_type": "stream",
     "text": [
      "Hello\n",
      "World\n"
     ]
    }
   ],
   "source": [
    "print(\"Hello\")\n",
    "time.sleep(5)   # will take 5 sec gap btw both prints\n",
    "print(\"World\")"
   ]
  },
  {
   "cell_type": "code",
   "execution_count": 39,
   "id": "840f5b16-a88d-426e-861a-4105937adfc2",
   "metadata": {},
   "outputs": [
    {
     "data": {
      "text/plain": [
       "'C:\\\\Users\\\\preet'"
      ]
     },
     "execution_count": 39,
     "metadata": {},
     "output_type": "execute_result"
    }
   ],
   "source": [
    "import os\n",
    "os.getcwd()   # current working directory"
   ]
  },
  {
   "cell_type": "code",
   "execution_count": 41,
   "id": "32fede1e-47d5-40d8-908a-cefa29b4c329",
   "metadata": {},
   "outputs": [
    {
     "data": {
      "text/plain": [
       "'.astropy'"
      ]
     },
     "execution_count": 41,
     "metadata": {},
     "output_type": "execute_result"
    }
   ],
   "source": [
    "os.listdir()[1]"
   ]
  },
  {
   "cell_type": "markdown",
   "id": "9bb3e282-c81c-4380-aeae-ac6ef313163b",
   "metadata": {},
   "source": [
    "## String"
   ]
  },
  {
   "cell_type": "markdown",
   "id": "87a52b69-8e06-4383-8c8e-da88392bff83",
   "metadata": {},
   "source": [
    "string is mostly found in application programming lnguages,\n",
    "Where we have to interact with user a\n",
    "*creating\n",
    "*accessing\n",
    "*Adding character\n",
    "*Editing\n",
    "*deleting\n",
    "*operations\n",
    "*string functions"
   ]
  },
  {
   "cell_type": "code",
   "execution_count": 43,
   "id": "d18cd2b6-748d-43de-a1e4-07c568e10a57",
   "metadata": {},
   "outputs": [
    {
     "data": {
      "text/plain": [
       "\"It's raining\""
      ]
     },
     "execution_count": 43,
     "metadata": {},
     "output_type": "execute_result"
    }
   ],
   "source": [
    "a=\"It's raining\"\n",
    "a"
   ]
  },
  {
   "cell_type": "code",
   "execution_count": null,
   "id": "8c919f42-3385-469b-8245-bc538ca6f406",
   "metadata": {},
   "outputs": [],
   "source": [
    "'''    '''   ## multiline string"
   ]
  },
  {
   "cell_type": "code",
   "execution_count": 50,
   "id": "0cb4ff36-c8f5-4c40-b3e7-8607f4aa1114",
   "metadata": {},
   "outputs": [
    {
     "data": {
      "text/plain": [
       "'hello world'"
      ]
     },
     "execution_count": 50,
     "metadata": {},
     "output_type": "execute_result"
    }
   ],
   "source": [
    "c=str(\"hello world\")\n",
    "c"
   ]
  },
  {
   "cell_type": "markdown",
   "id": "846f7e1c-6f15-4aa8-b4d1-cd4f99c53bc1",
   "metadata": {},
   "source": [
    "indexing and slicing"
   ]
  },
  {
   "cell_type": "code",
   "execution_count": 51,
   "id": "a8a048c2-5c70-4953-82f8-a15d8de62b30",
   "metadata": {},
   "outputs": [
    {
     "data": {
      "text/plain": [
       "('h', 'd')"
      ]
     },
     "execution_count": 51,
     "metadata": {},
     "output_type": "execute_result"
    }
   ],
   "source": [
    "c[0], c[-1]"
   ]
  },
  {
   "cell_type": "code",
   "execution_count": 56,
   "id": "f896ef0d-a52b-45e6-a2b0-9c6b011d1536",
   "metadata": {},
   "outputs": [
    {
     "data": {
      "text/plain": [
       "('hello', 'llo world', 'he', 'hello world', 'el ')"
      ]
     },
     "execution_count": 56,
     "metadata": {},
     "output_type": "execute_result"
    }
   ],
   "source": [
    "c[0:5], c[2:],c[:2],c[:], c[1:6:2]"
   ]
  },
  {
   "cell_type": "code",
   "execution_count": 63,
   "id": "d4060b19-2754-4533-9e94-8b767a42afab",
   "metadata": {},
   "outputs": [
    {
     "data": {
      "text/plain": [
       "('', 'worl', 'dlro')"
      ]
     },
     "execution_count": 63,
     "metadata": {},
     "output_type": "execute_result"
    }
   ],
   "source": [
    "c[1:6:-1], c[-5:-1:1], c[-1:-5:-1]"
   ]
  },
  {
   "cell_type": "code",
   "execution_count": 60,
   "id": "9bf7a726-86a9-46cb-bdd5-effcfc03e865",
   "metadata": {},
   "outputs": [
    {
     "data": {
      "text/plain": [
       "'dlrow olleh'"
      ]
     },
     "execution_count": 60,
     "metadata": {},
     "output_type": "execute_result"
    }
   ],
   "source": [
    "c[::-1]    ### string will get reversed"
   ]
  },
  {
   "cell_type": "code",
   "execution_count": 65,
   "id": "7fd66fbb-0fbe-409b-a879-692ae10663a9",
   "metadata": {},
   "outputs": [
    {
     "ename": "TypeError",
     "evalue": "'str' object does not support item assignment",
     "output_type": "error",
     "traceback": [
      "\u001b[1;31m---------------------------------------------------------------------------\u001b[0m",
      "\u001b[1;31mTypeError\u001b[0m                                 Traceback (most recent call last)",
      "Cell \u001b[1;32mIn[65], line 1\u001b[0m\n\u001b[1;32m----> 1\u001b[0m c[\u001b[38;5;241m0\u001b[39m]\u001b[38;5;241m=\u001b[39m\u001b[38;5;124m\"\u001b[39m\u001b[38;5;124mX\u001b[39m\u001b[38;5;124m\"\u001b[39m\n",
      "\u001b[1;31mTypeError\u001b[0m: 'str' object does not support item assignment"
     ]
    }
   ],
   "source": [
    "c[0]=\"X\"  ### string are immutable"
   ]
  },
  {
   "cell_type": "markdown",
   "id": "f1cbe833-961b-4605-9c5e-0463fc7bbc32",
   "metadata": {},
   "source": [
    "string operations\n",
    "1. arithmatic  (+,*)\n",
    "2. relational\n",
    "3. Logical\n",
    "4. LOOPS ON STRING\n",
    "5. membership"
   ]
  },
  {
   "cell_type": "code",
   "execution_count": 66,
   "id": "a2bb1cdf-ac7c-45a7-a481-477a27320b6b",
   "metadata": {},
   "outputs": [
    {
     "data": {
      "text/plain": [
       "'hello preeti'"
      ]
     },
     "execution_count": 66,
     "metadata": {},
     "output_type": "execute_result"
    }
   ],
   "source": [
    "\"hello\"+\" \"+\"preeti\""
   ]
  },
  {
   "cell_type": "code",
   "execution_count": 67,
   "id": "ec70bf0d-dbdc-4549-938c-faf7f454990f",
   "metadata": {},
   "outputs": [
    {
     "name": "stdout",
     "output_type": "stream",
     "text": [
      "****************************************\n"
     ]
    }
   ],
   "source": [
    "print(\"*\"*40)"
   ]
  },
  {
   "cell_type": "code",
   "execution_count": 69,
   "id": "19a64b25-679f-4b6d-b2ef-6a79c9e4153a",
   "metadata": {},
   "outputs": [
    {
     "data": {
      "text/plain": [
       "False"
      ]
     },
     "execution_count": 69,
     "metadata": {},
     "output_type": "execute_result"
    }
   ],
   "source": [
    "\"hello\"==\"preeti\""
   ]
  },
  {
   "cell_type": "code",
   "execution_count": 70,
   "id": "8aefd685-0efb-4077-8034-ebc494e4f88e",
   "metadata": {},
   "outputs": [
    {
     "data": {
      "text/plain": [
       "True"
      ]
     },
     "execution_count": 70,
     "metadata": {},
     "output_type": "execute_result"
    }
   ],
   "source": [
    "\"hello\"!=\"preeti\""
   ]
  },
  {
   "cell_type": "code",
   "execution_count": 71,
   "id": "89306d43-3d8f-42c8-88d8-7228d848f898",
   "metadata": {},
   "outputs": [
    {
     "data": {
      "text/plain": [
       "False"
      ]
     },
     "execution_count": 71,
     "metadata": {},
     "output_type": "execute_result"
    }
   ],
   "source": [
    "\"hello\">\"preeti\"     ### LEXIOGRAPHICALLY"
   ]
  },
  {
   "cell_type": "code",
   "execution_count": 72,
   "id": "2a6dac75-0aa5-4e40-8641-1ee5beecaedf",
   "metadata": {},
   "outputs": [
    {
     "data": {
      "text/plain": [
       "True"
      ]
     },
     "execution_count": 72,
     "metadata": {},
     "output_type": "execute_result"
    }
   ],
   "source": [
    "\"hello\">\"HELLO\""
   ]
  },
  {
   "cell_type": "code",
   "execution_count": 73,
   "id": "18d070a5-bcd8-48af-81e5-290b5e2c6294",
   "metadata": {},
   "outputs": [
    {
     "data": {
      "text/plain": [
       "'preeti'"
      ]
     },
     "execution_count": 73,
     "metadata": {},
     "output_type": "execute_result"
    }
   ],
   "source": [
    "\"hello\" and \"preeti\"    ### in python empty string=False and \"dtfygu\" is True"
   ]
  },
  {
   "cell_type": "code",
   "execution_count": 75,
   "id": "f9d57b7e-07d4-461e-897c-d7b432edfc14",
   "metadata": {},
   "outputs": [
    {
     "data": {
      "text/plain": [
       "''"
      ]
     },
     "execution_count": 75,
     "metadata": {},
     "output_type": "execute_result"
    }
   ],
   "source": [
    "\"\" and \"hello\""
   ]
  },
  {
   "cell_type": "code",
   "execution_count": 76,
   "id": "6447d9b2-e3d1-4756-905f-519db3d21482",
   "metadata": {},
   "outputs": [
    {
     "data": {
      "text/plain": [
       "('preeti', 'hello')"
      ]
     },
     "execution_count": 76,
     "metadata": {},
     "output_type": "execute_result"
    }
   ],
   "source": [
    "\"hello\" and \"preeti\",\"hello\" or \"preeti\""
   ]
  },
  {
   "cell_type": "code",
   "execution_count": 77,
   "id": "15f8c6c3-9070-4600-b204-d5abe576a1da",
   "metadata": {},
   "outputs": [
    {
     "data": {
      "text/plain": [
       "False"
      ]
     },
     "execution_count": 77,
     "metadata": {},
     "output_type": "execute_result"
    }
   ],
   "source": [
    "not \"hello\"   ## not True"
   ]
  },
  {
   "cell_type": "code",
   "execution_count": 78,
   "id": "87d77d9f-2ceb-4e80-baeb-a1ca91f50128",
   "metadata": {},
   "outputs": [
    {
     "data": {
      "text/plain": [
       "True"
      ]
     },
     "execution_count": 78,
     "metadata": {},
     "output_type": "execute_result"
    }
   ],
   "source": [
    "not \"\""
   ]
  },
  {
   "cell_type": "code",
   "execution_count": 82,
   "id": "82cf25c6-23e3-4cae-bb46-83457ebee3e5",
   "metadata": {},
   "outputs": [
    {
     "name": "stdout",
     "output_type": "stream",
     "text": [
      "h\n",
      "e\n",
      "l\n",
      "l\n",
      "o\n",
      " \n",
      "w\n",
      "o\n",
      "r\n",
      "l\n",
      "d\n"
     ]
    }
   ],
   "source": [
    "c=str(\"hello world\")\n",
    "for i in c:\n",
    "    print(i)"
   ]
  },
  {
   "cell_type": "code",
   "execution_count": 83,
   "id": "01bb6a7b-7655-4d41-b9cc-4d9da264a43d",
   "metadata": {},
   "outputs": [
    {
     "data": {
      "text/plain": [
       "True"
      ]
     },
     "execution_count": 83,
     "metadata": {},
     "output_type": "execute_result"
    }
   ],
   "source": [
    "\"h\" in c"
   ]
  },
  {
   "cell_type": "code",
   "execution_count": 84,
   "id": "e32c4940-b70e-45b2-8fdd-085b8dcc701a",
   "metadata": {},
   "outputs": [
    {
     "data": {
      "text/plain": [
       "False"
      ]
     },
     "execution_count": 84,
     "metadata": {},
     "output_type": "execute_result"
    }
   ],
   "source": [
    "\"world\" not in c"
   ]
  },
  {
   "cell_type": "markdown",
   "id": "4db8db62-4e7f-40a5-9383-29d363d36d05",
   "metadata": {},
   "source": [
    "String functions\n",
    "common::len,min,max,sorted   on ascii value\n",
    "specific::capitalize,titl"
   ]
  },
  {
   "cell_type": "code",
   "execution_count": null,
   "id": "cecdf721-9f7b-4cde-8945-142528b25cb7",
   "metadata": {},
   "outputs": [],
   "source": [
    "#capitalize/title/upper/lower/swapcase"
   ]
  },
  {
   "cell_type": "code",
   "execution_count": 85,
   "id": "a8a08e92-8634-4b5b-bda3-4bbed18b6c00",
   "metadata": {},
   "outputs": [
    {
     "data": {
      "text/plain": [
       "'It is raining'"
      ]
     },
     "execution_count": 85,
     "metadata": {},
     "output_type": "execute_result"
    }
   ],
   "source": [
    "\"it is raining\".capitalize()"
   ]
  },
  {
   "cell_type": "code",
   "execution_count": 86,
   "id": "39ea89e9-42e0-4163-a28f-ecbb8cefe0b0",
   "metadata": {},
   "outputs": [
    {
     "data": {
      "text/plain": [
       "'It Is Raining'"
      ]
     },
     "execution_count": 86,
     "metadata": {},
     "output_type": "execute_result"
    }
   ],
   "source": [
    "\"it is raining\".title()"
   ]
  },
  {
   "cell_type": "code",
   "execution_count": 87,
   "id": "2e82d80a-1a40-48fd-89bb-434e0e3776ef",
   "metadata": {},
   "outputs": [
    {
     "data": {
      "text/plain": [
       "'IT IS RAINING'"
      ]
     },
     "execution_count": 87,
     "metadata": {},
     "output_type": "execute_result"
    }
   ],
   "source": [
    "\"it is raining\".upper()"
   ]
  },
  {
   "cell_type": "code",
   "execution_count": 88,
   "id": "6e09ac43-7287-4876-855e-71ab54c1e25e",
   "metadata": {},
   "outputs": [
    {
     "data": {
      "text/plain": [
       "'IT is RAINING'"
      ]
     },
     "execution_count": 88,
     "metadata": {},
     "output_type": "execute_result"
    }
   ],
   "source": [
    "\"it IS raining\".swapcase()"
   ]
  },
  {
   "cell_type": "code",
   "execution_count": 89,
   "id": "cf6a519c-9054-4618-87f8-1db298117536",
   "metadata": {},
   "outputs": [
    {
     "data": {
      "text/plain": [
       "1"
      ]
     },
     "execution_count": 89,
     "metadata": {},
     "output_type": "execute_result"
    }
   ],
   "source": [
    "# count\n",
    "\"it is raining\".count(\"ing\")"
   ]
  },
  {
   "cell_type": "code",
   "execution_count": 92,
   "id": "03ce5d71-b30c-4579-b9b3-d9c7accbbabf",
   "metadata": {},
   "outputs": [
    {
     "data": {
      "text/plain": [
       "(0, -1)"
      ]
     },
     "execution_count": 92,
     "metadata": {},
     "output_type": "execute_result"
    }
   ],
   "source": [
    "#find/index\n",
    "\"it is raining\".find(\"i\"),\"it is raining\".find(\"x\")   ## -1 for absence"
   ]
  },
  {
   "cell_type": "code",
   "execution_count": 93,
   "id": "ec0eb494-c173-4e03-8add-24728e766084",
   "metadata": {},
   "outputs": [
    {
     "ename": "ValueError",
     "evalue": "substring not found",
     "output_type": "error",
     "traceback": [
      "\u001b[1;31m---------------------------------------------------------------------------\u001b[0m",
      "\u001b[1;31mValueError\u001b[0m                                Traceback (most recent call last)",
      "Cell \u001b[1;32mIn[93], line 1\u001b[0m\n\u001b[1;32m----> 1\u001b[0m \u001b[38;5;124m\"\u001b[39m\u001b[38;5;124mit is raining\u001b[39m\u001b[38;5;124m\"\u001b[39m\u001b[38;5;241m.\u001b[39mindex(\u001b[38;5;124m\"\u001b[39m\u001b[38;5;124mi\u001b[39m\u001b[38;5;124m\"\u001b[39m), \u001b[38;5;124m\"\u001b[39m\u001b[38;5;124mit is raining\u001b[39m\u001b[38;5;124m\"\u001b[39m\u001b[38;5;241m.\u001b[39mindex(\u001b[38;5;124m\"\u001b[39m\u001b[38;5;124mx\u001b[39m\u001b[38;5;124m\"\u001b[39m)\n",
      "\u001b[1;31mValueError\u001b[0m: substring not found"
     ]
    }
   ],
   "source": [
    "\"it is raining\".index(\"i\"), \"it is raining\".index(\"x\")"
   ]
  },
  {
   "cell_type": "code",
   "execution_count": 94,
   "id": "d5cbd89b-d25a-4b6f-b0ec-5e16eb0883dc",
   "metadata": {},
   "outputs": [
    {
     "data": {
      "text/plain": [
       "True"
      ]
     },
     "execution_count": 94,
     "metadata": {},
     "output_type": "execute_result"
    }
   ],
   "source": [
    "##endswith/startswith\n",
    "\n",
    "\"it is raining\".endswith(\"ing\")"
   ]
  },
  {
   "cell_type": "code",
   "execution_count": 97,
   "id": "be9e9672-c544-460d-8db0-8a6bf6277c18",
   "metadata": {},
   "outputs": [
    {
     "data": {
      "text/plain": [
       "'hello my name is preeti and i am 30'"
      ]
     },
     "execution_count": 97,
     "metadata": {},
     "output_type": "execute_result"
    }
   ],
   "source": [
    "## format\n",
    "\"hello my name is {} and i am {}\".format(\"preeti\",30)"
   ]
  },
  {
   "cell_type": "code",
   "execution_count": 98,
   "id": "077591fe-3dcc-4a62-a9bf-a963aac56424",
   "metadata": {},
   "outputs": [
    {
     "data": {
      "text/plain": [
       "'hello my name is 30 and i am preeti'"
      ]
     },
     "execution_count": 98,
     "metadata": {},
     "output_type": "execute_result"
    }
   ],
   "source": [
    "\"hello my name is {1} and i am {0}\".format(\"preeti\",30)"
   ]
  },
  {
   "cell_type": "code",
   "execution_count": 100,
   "id": "f4d31d82-d93e-48de-a10b-fc010cd97267",
   "metadata": {},
   "outputs": [
    {
     "data": {
      "text/plain": [
       "'hello my name is preeti and i am 30'"
      ]
     },
     "execution_count": 100,
     "metadata": {},
     "output_type": "execute_result"
    }
   ],
   "source": [
    "\"hello my name is {name} and i am {age}\".format(name=\"preeti\",age=30, weight=70)"
   ]
  },
  {
   "cell_type": "code",
   "execution_count": null,
   "id": "2be7b5ef-2c6b-4431-8b08-00cbc844ca0f",
   "metadata": {},
   "outputs": [],
   "source": [
    "##isalnum/isalpha/isdecimal/isdigit/isidentifies"
   ]
  },
  {
   "cell_type": "code",
   "execution_count": 105,
   "id": "aa5c5237-b895-48fe-9276-020ca542cc0c",
   "metadata": {},
   "outputs": [
    {
     "data": {
      "text/plain": [
       "(True, False, True, True)"
      ]
     },
     "execution_count": 105,
     "metadata": {},
     "output_type": "execute_result"
    }
   ],
   "source": [
    "\"FLAT20\".isalnum(), \"FLAT20&\".isalnum(), \"FLAT\".isalpha(), \"20\".isdigit()"
   ]
  },
  {
   "cell_type": "code",
   "execution_count": 106,
   "id": "a69f584b-9bde-4704-bfdf-30f1d42e28ae",
   "metadata": {},
   "outputs": [
    {
     "data": {
      "text/plain": [
       "(False, True)"
      ]
     },
     "execution_count": 106,
     "metadata": {},
     "output_type": "execute_result"
    }
   ],
   "source": [
    "\"hello preeti\".isidentifier(), \"hello_preeti\".isidentifier()"
   ]
  },
  {
   "cell_type": "code",
   "execution_count": 109,
   "id": "e8dbfe37-38ae-4215-9c08-b7646ca5d241",
   "metadata": {},
   "outputs": [
    {
     "data": {
      "text/plain": [
       "['hello', 'my', 'name', 'is', 'preeti', 'and', 'i', 'am', '30']"
      ]
     },
     "execution_count": 109,
     "metadata": {},
     "output_type": "execute_result"
    }
   ],
   "source": [
    "'hello my name is preeti and i am 30'.split()"
   ]
  },
  {
   "cell_type": "code",
   "execution_count": 110,
   "id": "4913b252-c7e9-4c93-9f75-c16ca174cccf",
   "metadata": {},
   "outputs": [
    {
     "data": {
      "text/plain": [
       "['hello my name ', ' preeti and i am 30']"
      ]
     },
     "execution_count": 110,
     "metadata": {},
     "output_type": "execute_result"
    }
   ],
   "source": [
    "'hello my name is preeti and i am 30'.split(\"is\")"
   ]
  },
  {
   "cell_type": "code",
   "execution_count": 112,
   "id": "c5e1faed-eff6-4683-a945-2aebfacf39e8",
   "metadata": {},
   "outputs": [
    {
     "data": {
      "text/plain": [
       "'hello*my*name*is*preeti*and*i*am*30'"
      ]
     },
     "execution_count": 112,
     "metadata": {},
     "output_type": "execute_result"
    }
   ],
   "source": [
    "\"*\".join(['hello', 'my', 'name', 'is', 'preeti', 'and', 'i', 'am', '30'])"
   ]
  },
  {
   "cell_type": "code",
   "execution_count": 113,
   "id": "d880b908-7421-4c7e-9c98-152d6aab3c73",
   "metadata": {},
   "outputs": [
    {
     "data": {
      "text/plain": [
       "'hello my name is preeti and i am 32'"
      ]
     },
     "execution_count": 113,
     "metadata": {},
     "output_type": "execute_result"
    }
   ],
   "source": [
    "##replace\n",
    "'hello my name is preeti and i am 30'.replace(\"30\",\"32\")"
   ]
  },
  {
   "cell_type": "code",
   "execution_count": 115,
   "id": "a99d9f42-1dd9-4205-9800-a2ddbdf6dcfd",
   "metadata": {},
   "outputs": [
    {
     "data": {
      "text/plain": [
       "'         preeti'"
      ]
     },
     "execution_count": 115,
     "metadata": {},
     "output_type": "execute_result"
    }
   ],
   "source": [
    "##strip\n",
    "name=\"         preeti\"\n",
    "name"
   ]
  },
  {
   "cell_type": "code",
   "execution_count": 116,
   "id": "14ee77ed-3c8d-4fa9-b82e-a62952f95eef",
   "metadata": {},
   "outputs": [
    {
     "data": {
      "text/plain": [
       "'preeti'"
      ]
     },
     "execution_count": 116,
     "metadata": {},
     "output_type": "execute_result"
    }
   ],
   "source": [
    "name.strip()"
   ]
  },
  {
   "cell_type": "markdown",
   "id": "1f9ca97f-ea2d-45fa-a9ae-9a8291c77d95",
   "metadata": {},
   "source": [
    "## LIST"
   ]
  },
  {
   "cell_type": "code",
   "execution_count": null,
   "id": "39185ab6-bd26-4698-811e-56921a9efa06",
   "metadata": {},
   "outputs": [],
   "source": [
    "array:\n",
    "homogeneous\n",
    "stored at continue memory location\n",
    "arrays are much faster\n",
    "list:   MUTABLE\n",
    "can be heterogeneous\n",
    "list are more programmer friendly"
   ]
  },
  {
   "cell_type": "code",
   "execution_count": 117,
   "id": "054d9d45-a485-4f6c-9207-46f7a8a12c8c",
   "metadata": {},
   "outputs": [],
   "source": [
    "l=[]\n",
    "l=list()"
   ]
  },
  {
   "cell_type": "code",
   "execution_count": 118,
   "id": "6aa40d0f-5a5b-4db4-bff0-f09959a23607",
   "metadata": {},
   "outputs": [],
   "source": [
    "l=[1,2,3]"
   ]
  },
  {
   "cell_type": "code",
   "execution_count": 119,
   "id": "7f24f582-c029-4ebe-a161-7be15defc7be",
   "metadata": {},
   "outputs": [],
   "source": [
    "l=[\"preeti\",2,2.3]"
   ]
  },
  {
   "cell_type": "code",
   "execution_count": 120,
   "id": "0442cb08-e5d4-48f4-bdb1-99be22751725",
   "metadata": {},
   "outputs": [],
   "source": [
    "# multidimentional list\n",
    "l=[[1,2,3,4],45,\"hello\"]   #2d"
   ]
  },
  {
   "cell_type": "code",
   "execution_count": 122,
   "id": "1e6f8b57-0ee9-4439-8874-e92c8b29c303",
   "metadata": {},
   "outputs": [
    {
     "data": {
      "text/plain": [
       "['p', 'r', 'e', 'e', 't', 'i']"
      ]
     },
     "execution_count": 122,
     "metadata": {},
     "output_type": "execute_result"
    }
   ],
   "source": [
    "l=list(\"preeti\")\n",
    "l"
   ]
  },
  {
   "cell_type": "code",
   "execution_count": 125,
   "id": "6ed0e987-bc0a-4b66-986b-f64a33fdf819",
   "metadata": {},
   "outputs": [
    {
     "data": {
      "text/plain": [
       "('p', 'i', ['i', 't', 'e', 'e', 'r', 'p'])"
      ]
     },
     "execution_count": 125,
     "metadata": {},
     "output_type": "execute_result"
    }
   ],
   "source": [
    "##access\n",
    "l[0],l[-1],l[::-1]"
   ]
  },
  {
   "cell_type": "code",
   "execution_count": 128,
   "id": "d2c241a0-918d-47fe-a911-9971a6db1ba5",
   "metadata": {},
   "outputs": [],
   "source": [
    "l1=[7,8,[1,2,3],4,5]"
   ]
  },
  {
   "cell_type": "code",
   "execution_count": 131,
   "id": "f319bf05-b891-473f-8126-7e59e8e497fa",
   "metadata": {},
   "outputs": [
    {
     "data": {
      "text/plain": [
       "2"
      ]
     },
     "execution_count": 131,
     "metadata": {},
     "output_type": "execute_result"
    }
   ],
   "source": [
    "l1[2][1]"
   ]
  },
  {
   "cell_type": "code",
   "execution_count": 132,
   "id": "d36a7e69-88c6-4f0a-8cfb-3b0c79b829bd",
   "metadata": {},
   "outputs": [
    {
     "data": {
      "text/plain": [
       "3"
      ]
     },
     "execution_count": 132,
     "metadata": {},
     "output_type": "execute_result"
    }
   ],
   "source": [
    "l1[-3][-1]"
   ]
  },
  {
   "cell_type": "code",
   "execution_count": 135,
   "id": "6a199ba3-463f-422d-b066-8479029d1f7b",
   "metadata": {},
   "outputs": [],
   "source": [
    "l2=[[[1,2],[3,4]],[[5,6],[7,8]]]"
   ]
  },
  {
   "cell_type": "code",
   "execution_count": 136,
   "id": "1f0d401c-bad0-4668-a88d-b9ef46ead630",
   "metadata": {},
   "outputs": [
    {
     "data": {
      "text/plain": [
       "2"
      ]
     },
     "execution_count": 136,
     "metadata": {},
     "output_type": "execute_result"
    }
   ],
   "source": [
    "l2[0][0][1]"
   ]
  },
  {
   "cell_type": "code",
   "execution_count": 139,
   "id": "613594d8-160d-4b86-a1a6-da18df1f41b1",
   "metadata": {},
   "outputs": [
    {
     "data": {
      "text/plain": [
       "10"
      ]
     },
     "execution_count": 139,
     "metadata": {},
     "output_type": "execute_result"
    }
   ],
   "source": [
    "# edit\n",
    "l2[1][1][0]"
   ]
  },
  {
   "cell_type": "code",
   "execution_count": 138,
   "id": "c0d60da1-d959-4ad4-a396-e866c52b9e45",
   "metadata": {},
   "outputs": [],
   "source": [
    "l2[1][1][0]=10"
   ]
  },
  {
   "cell_type": "code",
   "execution_count": 141,
   "id": "d24dd5e7-317d-4bb3-baa5-e2d1ed6d09cb",
   "metadata": {},
   "outputs": [
    {
     "data": {
      "text/plain": [
       "[[[1, 2], [3, 4]], [[5, 6], [10, 8]], 0, 0]"
      ]
     },
     "execution_count": 141,
     "metadata": {},
     "output_type": "execute_result"
    }
   ],
   "source": [
    "## add/append/extend/insert\n",
    "l2.append(0)      ## single item\n",
    "l2"
   ]
  },
  {
   "cell_type": "code",
   "execution_count": 142,
   "id": "b9de5ae5-42d8-4443-8894-f7d1c71dec62",
   "metadata": {},
   "outputs": [
    {
     "data": {
      "text/plain": [
       "[[[1, 2], [3, 4]], [[5, 6], [10, 8]], 0, 0, 1, 2, 3, 4]"
      ]
     },
     "execution_count": 142,
     "metadata": {},
     "output_type": "execute_result"
    }
   ],
   "source": [
    "l2.extend([1,2,3,4])  # multiple items\n",
    "l2"
   ]
  },
  {
   "cell_type": "code",
   "execution_count": 143,
   "id": "082a7937-18e5-44f8-8f82-6252e93bcdac",
   "metadata": {},
   "outputs": [
    {
     "data": {
      "text/plain": [
       "[[[1, 2], [3, 4]], [[5, 6], [10, 8]], 0, 0, 1, 2, 3, 4, [9, 9]]"
      ]
     },
     "execution_count": 143,
     "metadata": {},
     "output_type": "execute_result"
    }
   ],
   "source": [
    "l2.append([9,9])\n",
    "l2"
   ]
  },
  {
   "cell_type": "code",
   "execution_count": 144,
   "id": "7dbf3742-5966-4139-9d70-bdb20af8553a",
   "metadata": {},
   "outputs": [
    {
     "data": {
      "text/plain": [
       "[[[1, 2], [3, 4]], [[5, 6], [10, 8]], 0, 0, 1, 2, 3, 4, [9, 9], 'goa']"
      ]
     },
     "execution_count": 144,
     "metadata": {},
     "output_type": "execute_result"
    }
   ],
   "source": [
    "l2.append(\"goa\")\n",
    "l2"
   ]
  },
  {
   "cell_type": "code",
   "execution_count": 145,
   "id": "a7c9a218-7118-4227-9cc1-423d179fd60d",
   "metadata": {},
   "outputs": [],
   "source": [
    "l2.extend(\"goa\")     # multiple"
   ]
  },
  {
   "cell_type": "code",
   "execution_count": 146,
   "id": "b8221d17-c7be-4439-87f2-b44762348c5a",
   "metadata": {},
   "outputs": [
    {
     "data": {
      "text/plain": [
       "[[[1, 2], [3, 4]],\n",
       " [[5, 6], [10, 8]],\n",
       " 0,\n",
       " 0,\n",
       " 1,\n",
       " 2,\n",
       " 3,\n",
       " 4,\n",
       " [9, 9],\n",
       " 'goa',\n",
       " 'g',\n",
       " 'o',\n",
       " 'a']"
      ]
     },
     "execution_count": 146,
     "metadata": {},
     "output_type": "execute_result"
    }
   ],
   "source": [
    "l2"
   ]
  },
  {
   "cell_type": "code",
   "execution_count": 148,
   "id": "5df2c45e-79fe-4e86-b3c8-b645e155d469",
   "metadata": {},
   "outputs": [
    {
     "data": {
      "text/plain": [
       "[100,\n",
       " [[1, 2], [3, 4]],\n",
       " [[5, 6], [10, 8]],\n",
       " 0,\n",
       " 0,\n",
       " 1,\n",
       " 2,\n",
       " 3,\n",
       " 4,\n",
       " [9, 9],\n",
       " 'goa',\n",
       " 'g',\n",
       " 'o',\n",
       " 'a']"
      ]
     },
     "execution_count": 148,
     "metadata": {},
     "output_type": "execute_result"
    }
   ],
   "source": [
    "l2.insert(0,100)\n",
    "l2"
   ]
  },
  {
   "cell_type": "code",
   "execution_count": null,
   "id": "3b65deef-2ea3-4370-b7cd-7a7825d4c2bc",
   "metadata": {},
   "outputs": [],
   "source": [
    "#delete/del/remove/pop/clear"
   ]
  },
  {
   "cell_type": "code",
   "execution_count": 150,
   "id": "2d09e204-5649-43fd-8f09-76c65c944711",
   "metadata": {},
   "outputs": [
    {
     "ename": "NameError",
     "evalue": "name 'l2' is not defined",
     "output_type": "error",
     "traceback": [
      "\u001b[1;31m---------------------------------------------------------------------------\u001b[0m",
      "\u001b[1;31mNameError\u001b[0m                                 Traceback (most recent call last)",
      "Cell \u001b[1;32mIn[150], line 1\u001b[0m\n\u001b[1;32m----> 1\u001b[0m \u001b[38;5;28;01mdel\u001b[39;00m l2\n\u001b[0;32m      2\u001b[0m l2\n",
      "\u001b[1;31mNameError\u001b[0m: name 'l2' is not defined"
     ]
    }
   ],
   "source": [
    "del l2\n",
    "l2"
   ]
  },
  {
   "cell_type": "code",
   "execution_count": 154,
   "id": "55b08856-225c-44b8-ad7a-1ba17dfb7470",
   "metadata": {},
   "outputs": [
    {
     "data": {
      "text/plain": [
       "[[[1, 2], [3, 4]], [[5, 6], [10, 8]], 0, 1, 2, 3, 4, [9, 9], 'g', 'o', 'a']"
      ]
     },
     "execution_count": 154,
     "metadata": {},
     "output_type": "execute_result"
    }
   ],
   "source": [
    "l=[[[1, 2], [3, 4]], [[5, 6], [10, 8]], 0, 0, 1, 2, 3, 4, [9, 9],'g','o','a']\n",
    "del l[-9]\n",
    "l"
   ]
  },
  {
   "cell_type": "code",
   "execution_count": 156,
   "id": "d81f4222-dfbe-4abd-b374-22fb261ad346",
   "metadata": {},
   "outputs": [
    {
     "data": {
      "text/plain": [
       "[[[1, 2], [3, 4]], [[5, 6], [10, 8]], 0, 1, 2, 3, 4, [9, 9]]"
      ]
     },
     "execution_count": 156,
     "metadata": {},
     "output_type": "execute_result"
    }
   ],
   "source": [
    "del l[-3:]\n",
    "l"
   ]
  },
  {
   "cell_type": "code",
   "execution_count": 157,
   "id": "10eb3b6b-93f5-4a9e-abdc-f1cd7db28896",
   "metadata": {},
   "outputs": [
    {
     "ename": "ValueError",
     "evalue": "list.remove(x): x not in list",
     "output_type": "error",
     "traceback": [
      "\u001b[1;31m---------------------------------------------------------------------------\u001b[0m",
      "\u001b[1;31mValueError\u001b[0m                                Traceback (most recent call last)",
      "Cell \u001b[1;32mIn[157], line 1\u001b[0m\n\u001b[1;32m----> 1\u001b[0m l\u001b[38;5;241m.\u001b[39mremove([\u001b[38;5;241m10\u001b[39m,\u001b[38;5;241m8\u001b[39m])\n",
      "\u001b[1;31mValueError\u001b[0m: list.remove(x): x not in list"
     ]
    }
   ],
   "source": [
    "l.remove([10,8])"
   ]
  },
  {
   "cell_type": "code",
   "execution_count": 158,
   "id": "4465da4c-4c9e-4074-a6e8-b43e98a552cc",
   "metadata": {},
   "outputs": [
    {
     "data": {
      "text/plain": [
       "[[[1, 2], [3, 4]], 0, 1, 2, 3, 4, [9, 9]]"
      ]
     },
     "execution_count": 158,
     "metadata": {},
     "output_type": "execute_result"
    }
   ],
   "source": [
    "l.remove([[5, 6], [10, 8]])\n",
    "l"
   ]
  },
  {
   "cell_type": "code",
   "execution_count": 159,
   "id": "a7daf7f5-26b2-4de2-bfa7-bc7041151da9",
   "metadata": {},
   "outputs": [
    {
     "data": {
      "text/plain": [
       "[[[1, 2], [3, 4]], 0, 1, 2, 3, 4]"
      ]
     },
     "execution_count": 159,
     "metadata": {},
     "output_type": "execute_result"
    }
   ],
   "source": [
    "l.pop()   ## last item\n",
    "l"
   ]
  },
  {
   "cell_type": "code",
   "execution_count": 160,
   "id": "373a9c31-28fc-46ec-87b6-a2b1b28d73e1",
   "metadata": {},
   "outputs": [
    {
     "data": {
      "text/plain": [
       "[]"
      ]
     },
     "execution_count": 160,
     "metadata": {},
     "output_type": "execute_result"
    }
   ],
   "source": [
    "l.clear()       #\n",
    "l"
   ]
  },
  {
   "cell_type": "code",
   "execution_count": 161,
   "id": "dd78c423-1769-4bbd-ac29-2fae40d6d42a",
   "metadata": {},
   "outputs": [
    {
     "data": {
      "text/plain": [
       "[1, 2, 3, 4, 5, 6, 7, 8]"
      ]
     },
     "execution_count": 161,
     "metadata": {},
     "output_type": "execute_result"
    }
   ],
   "source": [
    "l1=[1,2,3,4]\n",
    "l2=[5,6,7,8]\n",
    "l1+l2"
   ]
  },
  {
   "cell_type": "code",
   "execution_count": 163,
   "id": "5f07a458-112b-4974-b87c-90a0a6c01ef7",
   "metadata": {},
   "outputs": [
    {
     "data": {
      "text/plain": [
       "[1, 2, 3, 4, 1, 2, 3, 4, 1, 2, 3, 4]"
      ]
     },
     "execution_count": 163,
     "metadata": {},
     "output_type": "execute_result"
    }
   ],
   "source": [
    "l1*3"
   ]
  },
  {
   "cell_type": "code",
   "execution_count": 164,
   "id": "c07e3fd1-c917-4295-9ae3-18cf1f9ea294",
   "metadata": {},
   "outputs": [
    {
     "data": {
      "text/plain": [
       "True"
      ]
     },
     "execution_count": 164,
     "metadata": {},
     "output_type": "execute_result"
    }
   ],
   "source": [
    "4 in l1"
   ]
  },
  {
   "cell_type": "code",
   "execution_count": null,
   "id": "ad68f022-7df9-463d-bc8f-071d7b96e033",
   "metadata": {},
   "outputs": [],
   "source": [
    "# functions\n",
    "len\n",
    "min\n",
    "max\n",
    "sorted\n"
   ]
  },
  {
   "cell_type": "code",
   "execution_count": 169,
   "id": "d6e3ff3b-48d6-46f6-929d-405b69f9122d",
   "metadata": {},
   "outputs": [],
   "source": [
    "l1=[9,5,8,6,2,1]"
   ]
  },
  {
   "cell_type": "code",
   "execution_count": 170,
   "id": "e6f050a2-09d1-43b3-88a7-8cc05042db76",
   "metadata": {},
   "outputs": [
    {
     "data": {
      "text/plain": [
       "[1, 2, 5, 6, 8, 9]"
      ]
     },
     "execution_count": 170,
     "metadata": {},
     "output_type": "execute_result"
    }
   ],
   "source": [
    "sorted(l1)     #### doesnt change the existing list"
   ]
  },
  {
   "cell_type": "code",
   "execution_count": 171,
   "id": "e641ad56-5c7c-4cc3-a2d2-6035b98ee649",
   "metadata": {},
   "outputs": [
    {
     "data": {
      "text/plain": [
       "[9, 5, 8, 6, 2, 1]"
      ]
     },
     "execution_count": 171,
     "metadata": {},
     "output_type": "execute_result"
    }
   ],
   "source": [
    "l1"
   ]
  },
  {
   "cell_type": "code",
   "execution_count": 173,
   "id": "085faee8-cc10-41e1-b0f7-772e43084e9b",
   "metadata": {},
   "outputs": [
    {
     "data": {
      "text/plain": [
       "[9, 8, 6, 5, 2, 1]"
      ]
     },
     "execution_count": 173,
     "metadata": {},
     "output_type": "execute_result"
    }
   ],
   "source": [
    "l1.sort(reverse= True)        ##### sort the existing list\n",
    "l1"
   ]
  },
  {
   "cell_type": "code",
   "execution_count": null,
   "id": "78e02781-f1e5-4e1c-bd65-d8f049556633",
   "metadata": {},
   "outputs": [],
   "source": []
  },
  {
   "cell_type": "code",
   "execution_count": null,
   "id": "86ff07a7-806b-44c2-8e8d-147d699a17b2",
   "metadata": {},
   "outputs": [],
   "source": []
  },
  {
   "cell_type": "code",
   "execution_count": null,
   "id": "5bec1871-50fe-4937-97c6-1d5ad579a3c5",
   "metadata": {},
   "outputs": [],
   "source": []
  },
  {
   "cell_type": "code",
   "execution_count": null,
   "id": "c388b4f9-9931-4163-af6d-7284ad15e008",
   "metadata": {},
   "outputs": [],
   "source": []
  },
  {
   "cell_type": "code",
   "execution_count": null,
   "id": "0b947178-c89f-4437-b209-c30d9fcaa3be",
   "metadata": {},
   "outputs": [],
   "source": []
  },
  {
   "cell_type": "code",
   "execution_count": null,
   "id": "8b1579d2-8bca-48ec-ad06-13fa52de84dd",
   "metadata": {},
   "outputs": [],
   "source": []
  },
  {
   "cell_type": "code",
   "execution_count": null,
   "id": "784c22df-f4ed-4b4b-aefd-5684a5803b5f",
   "metadata": {},
   "outputs": [],
   "source": []
  },
  {
   "cell_type": "code",
   "execution_count": null,
   "id": "dd4eedb3-406f-45f6-aa67-15eac66ab493",
   "metadata": {},
   "outputs": [],
   "source": []
  },
  {
   "cell_type": "code",
   "execution_count": null,
   "id": "ec0c3f21-73e7-4f8d-8557-d0cdc189d49b",
   "metadata": {},
   "outputs": [],
   "source": []
  },
  {
   "cell_type": "code",
   "execution_count": null,
   "id": "bded4ee5-675d-49f6-81da-2c5d311a3bb9",
   "metadata": {},
   "outputs": [],
   "source": []
  },
  {
   "cell_type": "code",
   "execution_count": null,
   "id": "7c10f0c4-0839-44d3-9121-d9df4c734ab4",
   "metadata": {},
   "outputs": [],
   "source": []
  },
  {
   "cell_type": "code",
   "execution_count": null,
   "id": "6c2ffd45-8ed8-4348-8eba-8d748a6091f0",
   "metadata": {},
   "outputs": [],
   "source": []
  },
  {
   "cell_type": "code",
   "execution_count": null,
   "id": "3bb7c5f6-184a-4bd2-82c9-56d658bcbae8",
   "metadata": {},
   "outputs": [],
   "source": []
  },
  {
   "cell_type": "code",
   "execution_count": null,
   "id": "e729e748-1fcd-4ecb-bc4b-a5c68f4704d8",
   "metadata": {},
   "outputs": [],
   "source": []
  },
  {
   "cell_type": "code",
   "execution_count": null,
   "id": "b31288b5-11ce-4d35-b583-f6cf842eff57",
   "metadata": {},
   "outputs": [],
   "source": []
  },
  {
   "cell_type": "code",
   "execution_count": null,
   "id": "f43fe33b-47d4-469a-9ea5-a47bcf152c56",
   "metadata": {},
   "outputs": [],
   "source": []
  },
  {
   "cell_type": "code",
   "execution_count": null,
   "id": "85be3fe0-df8f-4b2a-8512-52c50ab5fd28",
   "metadata": {},
   "outputs": [],
   "source": []
  },
  {
   "cell_type": "code",
   "execution_count": null,
   "id": "65e1e66e-7a81-4bbe-9669-695f0291e289",
   "metadata": {},
   "outputs": [],
   "source": []
  },
  {
   "cell_type": "code",
   "execution_count": null,
   "id": "727b8ecf-7356-47ae-abc2-58ce3b556f3a",
   "metadata": {},
   "outputs": [],
   "source": []
  }
 ],
 "metadata": {
  "kernelspec": {
   "display_name": "Python 3 (ipykernel)",
   "language": "python",
   "name": "python3"
  },
  "language_info": {
   "codemirror_mode": {
    "name": "ipython",
    "version": 3
   },
   "file_extension": ".py",
   "mimetype": "text/x-python",
   "name": "python",
   "nbconvert_exporter": "python",
   "pygments_lexer": "ipython3",
   "version": "3.11.7"
  }
 },
 "nbformat": 4,
 "nbformat_minor": 5
}
